{
 "cells": [
  {
   "cell_type": "markdown",
   "id": "0b01ceb5-673d-49a1-953d-d3871328b63b",
   "metadata": {},
   "source": [
    "# GG4257 - Urban Analytics: A Toolkit for Sustainable Urban Development\n",
    "## Lab Workbook No 4: Geovisualization II - Apps.\n",
    "## CHALLENGE THREE\n",
    "---\n",
    "Dr Fernando Benitez -  University of St Andrews - School of Geography and Sustainable Development - Iteration 2024"
   ]
  },
  {
   "cell_type": "markdown",
   "id": "b2205a11-1d2a-4927-9b18-4630d66ff300",
   "metadata": {},
   "source": [
    "# Ploty - Dash\n",
    "\n",
    "Ploty is probably one of the most common and powerful open-source libraries to create interactive charts, maps, and, in general, visualisation components that give you the tools to display your processed data. Ploty is available for Python, R, Julia, Javascript, ggplot2, F#, MATLAB®, and Dash.\n",
    "\n",
    "> More information at: https://plotly.com/graphing-libraries/\n",
    "\n",
    "Using Plotty, we will practice how to create Choropleth Maps, which, as we described in the lecture, are composed of coloured polygons. These maps are used to represent **spatial variations of a quantity**. \n",
    "\n",
    "Plotly figures made with **Plotly Express** `px.scatter_geo`, `px.line_geo` or `px.choropleth` functions or containing `go.Choropleth` or `go.Scattergeo` graph objects have a `go.layout.Geo` object which can be used to control the appearance of the base map onto which data is plotted.\n",
    "\n",
    "**What are the main components you need to be aware of?**\n",
    "\n",
    "1. Geometry information:\n",
    "This can either be a supplied GeoJSON file where each feature has either an id field or some identifying value in properties (Code bellow adapted from: https://plotly.com/python/choropleth-maps/#indexing-by-geojson-properties )\n",
    "2. A list of values indexed by feature identifier.\n"
   ]
  },
  {
   "cell_type": "markdown",
   "id": "c5bc6c70-cfe5-445e-a7ae-99f5e3525d0d",
   "metadata": {},
   "source": [
    "To begin with, we'll use a library (request) to read a JSON file from the cloud and obtain a response from a web service. The \"counties\" variable contains the response in the form of an array. By validating the first element of this array, you can view all the attributes provided by the service. Check that you have the ID of each polygon `id`"
   ]
  },
  {
   "cell_type": "code",
   "execution_count": null,
   "id": "aaf34e82-3c37-4d3c-a587-33e1d9607199",
   "metadata": {},
   "outputs": [],
   "source": [
    "from urllib.request import urlopen\n",
    "import json\n",
    "\n",
    "url_path='https://raw.githubusercontent.com/plotly/datasets/master/geojson-counties-fips.json'\n",
    "\n",
    "with urlopen(url_path) as response:\n",
    "    counties = json.load(response)\n",
    "\n",
    "\n",
    "counties[\"features\"][0]"
   ]
  },
  {
   "cell_type": "markdown",
   "id": "1edefdd9-3652-4f30-abbe-fc1186ee3ca5",
   "metadata": {},
   "source": [
    "Using an ID as a shared key, we will merge a table with unemployment data. The attribute `fips` will be used as the shared key."
   ]
  },
  {
   "cell_type": "code",
   "execution_count": null,
   "id": "1ffd869a-fd10-4fe2-8a8c-936307de5683",
   "metadata": {},
   "outputs": [],
   "source": [
    "import pandas as pd\n",
    "\n",
    "csv_path='https://raw.githubusercontent.com/plotly/datasets/master/fips-unemp-16.csv'\n",
    "df = pd.read_csv(csv_path,\n",
    "                 dtype={\"fips\": str}\n",
    "                )\n",
    "df.head()"
   ]
  },
  {
   "cell_type": "code",
   "execution_count": null,
   "id": "8c2b0f52-3e96-4f33-ba9f-3e6ca32afa55",
   "metadata": {},
   "outputs": [],
   "source": [
    "# Here we can get all the properties of the px.choropleth object\n",
    "# https://plotly.com/python-api-reference/generated/plotly.express.choropleth.html\n",
    "\n",
    "# One useful parameter is scope to define where you want to centre and locate your map.\n",
    "\n",
    "import plotly.express as px\n",
    "\n",
    "fig = px.choropleth(df, \n",
    "                    geojson=counties,\n",
    "                    locations='fips',\n",
    "                    color='unemp',\n",
    "                    color_continuous_scale=\"Viridis\",\n",
    "                    range_color=(0, 12),\n",
    "                    scope=\"usa\",\n",
    "                    labels={'unemp':'unemployment rate'}\n",
    "                    )\n",
    "fig.update_layout(margin={\"r\":0,\"t\":0,\"l\":0,\"b\":0})\n",
    "fig.show()"
   ]
  },
  {
   "cell_type": "markdown",
   "id": "a433efbd-2b3a-4d2d-851f-74b010744ff9",
   "metadata": {},
   "source": [
    "## choropleth\n",
    "Now, let's try to use a similar example but using local data (e.g. shapefile) and geopandas. As I described before, you need an `ID`, which could also be one of the attributes of your data. \n",
    "\n",
    "In this case, we will use the `DataZone` from the SIMD - Scottish Index of MultiDeprevition from the official website: https://www.spatialdata.gov.scot\n"
   ]
  },
  {
   "cell_type": "code",
   "execution_count": null,
   "id": "115529eb-d6cb-4ca6-867a-9a429db21ec0",
   "metadata": {},
   "outputs": [],
   "source": [
    "import plotly.express as px\n",
    "import geopandas as gpd\n",
    "\n",
    "shapefile_path = 'SIMD_2020_GlasgowCity.shp'\n",
    "gdf = gpd.read_file(shapefile_path)"
   ]
  },
  {
   "cell_type": "code",
   "execution_count": null,
   "id": "e3a13276-c006-4a29-baef-7784cf1183e9",
   "metadata": {},
   "outputs": [],
   "source": [
    "gdf.set_index('DataZone', inplace=True)\n",
    "gdf.head()"
   ]
  },
  {
   "cell_type": "code",
   "execution_count": null,
   "id": "e10b4382-dc2b-425c-a56c-9be916041db4",
   "metadata": {},
   "outputs": [],
   "source": [
    "gdf.columns"
   ]
  },
  {
   "cell_type": "code",
   "execution_count": null,
   "id": "6bb3b281-5b71-4e62-a023-32bf17a83f3b",
   "metadata": {},
   "outputs": [],
   "source": [
    "fig = px.choropleth(gdf,\n",
    "                    geojson=gdf.geometry,\n",
    "                    locations=gdf.index,\n",
    "                    color=\"Quintilev2\",\n",
    "                    projection=\"mercator\", #Why do you think we had to use this?\n",
    "                   )\n",
    "fig.update_geos(fitbounds=\"locations\", visible=False)\n",
    "fig.update_layout(margin={\"r\":0,\"t\":0,\"l\":0,\"b\":0})\n",
    "fig.show()"
   ]
  },
  {
   "cell_type": "markdown",
   "id": "7f266316-3c91-4e6d-95f5-57aad9530d84",
   "metadata": {},
   "source": [
    "In Plotly Express, you can adjust the classification method for choropleth maps using the `color_continuous_scale` parameter. The `color_continuous_scale` parameter allows you to specify a color scale for continuous data, and you can choose from a variety of built-in scales provided by Plotly.\n",
    "\n",
    "Here you can find all the built-in scales. https://plotly.com/python/builtin-colorscales/"
   ]
  },
  {
   "cell_type": "markdown",
   "id": "ccf9111d-7f55-4c05-8151-ff31e89335fa",
   "metadata": {},
   "source": [
    "## choropleth_mapbox\n",
    "\n",
    "For the next example, we will use another object, `choropleth_mapbox`, which provides other properties that create more stylish maps that include base maps. Reference site: https://plotly.com/python-api-reference/generated/plotly.express.choropleth_mapbox "
   ]
  },
  {
   "cell_type": "code",
   "execution_count": null,
   "id": "b573552d-a937-4e16-a321-9b78f9d4776c",
   "metadata": {},
   "outputs": [],
   "source": [
    "fig = px.choropleth_mapbox(gdf,\n",
    "                           geojson=gdf.geometry,\n",
    "                           locations=gdf.index,\n",
    "                           color=\"Quintilev2\",\n",
    "                           color_continuous_scale=\"ylgn\",\n",
    "                           range_color=(1, 5),\n",
    "                           opacity=0.5,\n",
    "                           center={\"lat\": 55.866193, \"lon\": -4.258246},\n",
    "                           mapbox_style=\"carto-positron\",\n",
    "                           zoom=9.5)\n",
    "fig.update_layout(margin={\"r\":0,\"t\":0,\"l\":0,\"b\":0})\n",
    "fig.show()"
   ]
  },
  {
   "cell_type": "markdown",
   "id": "c042cb7f-dbad-49ac-96d3-b37782518053",
   "metadata": {},
   "source": [
    "## mapclassify from PySAL\n",
    "\n",
    "To complete this section, we can utilize the `mapclassify` library https://pysal.org/mapclassify/ from PySAL to choose the appropriate classification method and specify the number of classes, based on your data's nature and type. As discussed in the lecture, it's crucial to choose the right method to avoid misleading your audience. Choropleth maps are subjective, and different maps can represent the same data but with varying classification methods and colour schemes. Both approaches are valid, but the classification method determines how data is classified and coloured."
   ]
  },
  {
   "cell_type": "code",
   "execution_count": null,
   "id": "3fda8f51-2d1a-4669-9721-e2a78d7dc240",
   "metadata": {},
   "outputs": [],
   "source": [
    "import mapclassify as mc\n",
    "import matplotlib.pyplot as plt\n",
    "import folium\n",
    "import seaborn as sns\n",
    "\n",
    "shapefile_path = 'SIMD_2020_GlasgowCity.shp'\n",
    "gdf = gpd.read_file(shapefile_path)\n",
    "gdf.head()"
   ]
  },
  {
   "cell_type": "markdown",
   "id": "c5293852-17b4-41af-ab6f-1b5c444b21fe",
   "metadata": {},
   "source": [
    "Classifying data can be a complex task since it is often subjective. However, regardless of the numerical attribute you want to represent, you can plot a histogram to visualize how the attribute is distributed. After that, you can find a classification method that not only better represents the data distribution but also makes sense with how your data can be clustered into classes.\n",
    "\n",
    "Now we can make several histograms to make some EDA analyses and define how the data is distributed in three attributes: Crime Counts (`CrimeCount`), Number of working-age people who are employment deprived (`EmpNumDep`) and Hospital stays related to alcohol use (`HlthAlcSR`)"
   ]
  },
  {
   "cell_type": "code",
   "execution_count": null,
   "id": "03edc9b4-915b-4967-bf2c-5bcc0ed2503b",
   "metadata": {},
   "outputs": [],
   "source": [
    "fig, axes = plt.subplots(1, 3, figsize=(15, 5))\n",
    "\n",
    "\n",
    "sns.histplot(data=gdf, x=\"CrimeCount\",ax=axes[0], kde=True) \n",
    "sns.histplot(data=gdf, x=\"EmpNumDep\",ax=axes[1], kde=True) # Number of working age people who are employment deprived\n",
    "sns.histplot(data=gdf, x=\"HlthAlcSR\",ax=axes[2], kde=True) # Hospital stays related to alcohol use\n",
    "\n",
    "axes[0].set_title(\"Crime Counts \")\n",
    "axes[1].set_title(\"# of working age people who are employment deprived \")\n",
    "axes[2].set_title(\"Hospital stays related to alcohol use \")\n",
    "\n",
    "plt.tight_layout()\n",
    "plt.show()"
   ]
  },
  {
   "cell_type": "markdown",
   "id": "ba9688d8-334d-43cc-aa50-a5e814690db6",
   "metadata": {},
   "source": [
    "Next, we call the library classifier to run the Natural Breaks; if we print the object, we can see the intervals (classes) created and the number of elements that fall into each interval. We can also see how the bins are created and which one is the minimum and maximum value from the classification method."
   ]
  },
  {
   "cell_type": "code",
   "execution_count": null,
   "id": "b7802381-5577-4768-8efa-6d638fd02cfb",
   "metadata": {},
   "outputs": [],
   "source": [
    "# Number of classes for classification\n",
    "num_classes = 5\n",
    "\n",
    "# Using Natural Breaks (Jenks) classification\n",
    "# http://nbviewer.jupyter.org/github/pysal/mapclassify/blob/main/notebooks/03_choropleth.ipynb\n",
    "classifier_nb = mc.NaturalBreaks(gdf['EmpNumDep'], k=num_classes)\n",
    "print(classifier_nb)\n",
    "print(min(classifier_nb.bins), max(classifier_nb.bins))\n",
    "print(classifier_nb.bins) # bins object stores the break points when considering the classification method.\n",
    "\n",
    "# Using Equal Interval classification\n",
    "classifier_ei = mc.EqualInterval(gdf['EmpNumDep'], k=num_classes)\n",
    "print(classifier_ei)\n",
    "print(min(classifier_ei.bins), max(classifier_ei.bins))\n",
    "print(classifier_ei.bins) # bins object stores the break points when considering the classification method."
   ]
  },
  {
   "cell_type": "code",
   "execution_count": null,
   "id": "16f93f5e-1ae9-49b6-be0b-3b56975a3d90",
   "metadata": {},
   "outputs": [],
   "source": [
    "fig, ax = plt.subplots(figsize=(8, 5))\n",
    "\n",
    "\n",
    "sns.histplot(data=gdf, x=\"EmpNumDep\", ax=ax, kde=True, bins=20)\n",
    "\n",
    "# The following is a bit tricky, so let's break it down. The idea is to plot the bins or breakpoints\n",
    "# along with the histogram to see how the data is being classified.\n",
    "# 1. Initially, define the style of the lines to represent the breakpoints.\n",
    "ax.axvline(classifier_nb.bins[0], color='red', linestyle='dashed', linewidth=2, label='Breakpoints') \n",
    "# 2. A simple For to loop over all the elements in the array 'classifier_nb.bins', you printed that in the cell above.\n",
    "for bin_value in classifier_nb.bins:\n",
    "    ax.axvline(bin_value, color='red', linestyle='dashed', linewidth=2) # here I use axvline https://matplotlib.org/stable/api/_as_gen/matplotlib.pyplot.axvline.html\n",
    " \n",
    "# 3. Now, just styling the plot\n",
    "ax.set_title(\"Histogram with Breakpoints for Natural Breaks\")\n",
    "\n",
    "# We need a legend...but is optional.\n",
    "plt.legend()\n",
    "plt.show()"
   ]
  },
  {
   "cell_type": "markdown",
   "id": "783f50cf-78c0-4992-b77a-e8ac031d0205",
   "metadata": {},
   "source": [
    "Now, what if we want to see the difference in the classification methods...lets plot both in the same figure, so you can see how the classes are different. "
   ]
  },
  {
   "cell_type": "code",
   "execution_count": null,
   "id": "d651b057-3544-4b81-b57c-a072ab3b5ffe",
   "metadata": {},
   "outputs": [],
   "source": [
    "# 1. You know this already.\n",
    "fig, axes = plt.subplots(1, 2, figsize=(15, 5))\n",
    "\n",
    "# 2. Same as I explained before., butt one extra property, ax=axes[0], which means it is a matrix of 1 row, two columns.\n",
    "sns.histplot(data=gdf, x=\"EmpNumDep\", ax=axes[0], kde=True, bins=20)\n",
    "axes[0].axvline(classifier_nb.bins[0], color='red', linestyle='dashed', linewidth=2, label='Natural Breaks')\n",
    "for bin_value in classifier_nb.bins:\n",
    "    axes[0].axvline(bin_value, color='red', linestyle='dashed', linewidth=2)\n",
    "axes[0].set_title(\"EmpNumDep Histogram with Natural Breaks\")\n",
    "axes[0].legend()\n",
    "\n",
    "# 3. The next plot using now ax=axes[1]\n",
    "sns.histplot(data=gdf, x=\"EmpNumDep\", ax=axes[1], kde=True, bins=20)\n",
    "axes[1].axvline(classifier_ei.bins[0], color='blue', linestyle='dashed', linewidth=2, label='Quantiles')\n",
    "for bin_value in classifier_ei.bins:\n",
    "    axes[1].axvline(bin_value, color='blue', linestyle='dashed', linewidth=2)\n",
    "axes[1].set_title(\"EmpNumDep Histogram with Quantiles\")\n",
    "axes[1].legend()\n",
    "\n",
    "# 4. Adjust the plot.\n",
    "plt.tight_layout()\n",
    "plt.show()"
   ]
  },
  {
   "cell_type": "markdown",
   "id": "8aca0c8d-5a93-4805-a034-66eddf652e8d",
   "metadata": {},
   "source": [
    "Finally we use matplotlib to make a map of the data using intervals created by the classifier library."
   ]
  },
  {
   "cell_type": "code",
   "execution_count": null,
   "id": "09db4e12-c383-4865-9823-8fd4eb34fddf",
   "metadata": {},
   "outputs": [],
   "source": [
    "fig, ax = plt.subplots(figsize=(12, 10))\n",
    "gdf.plot(column='EmpNumDep', ax=ax,\n",
    "         legend=True, cmap='viridis',\n",
    "         scheme='UserDefined',\n",
    "         classification_kwds={'bins': classifier_nb.bins} \n",
    "        )\n",
    "plt.title(\"Choropleth Map using mapclassify with Natural Breaks - Map 1\")\n",
    "plt.show()"
   ]
  },
  {
   "cell_type": "markdown",
   "id": "8ccdc049-dc33-456d-9eae-25ec83d65d45",
   "metadata": {},
   "source": [
    "Now, same process but using another classification method."
   ]
  },
  {
   "cell_type": "code",
   "execution_count": null,
   "id": "f4fc9a8e-7953-4d07-84bd-07bd8852862b",
   "metadata": {},
   "outputs": [],
   "source": [
    "fig, ax = plt.subplots(figsize=(12, 10))\n",
    "gdf.plot(column='EmpNumDep', ax=ax,\n",
    "         legend=True, cmap='viridis',\n",
    "         scheme='UserDefined',\n",
    "         classification_kwds={'bins': classifier_ei.bins},\n",
    "        )\n",
    "plt.title(\"Choropleth Map using Classifier with Equal Intervals - Map 2\")\n",
    "plt.show()"
   ]
  },
  {
   "cell_type": "markdown",
   "id": "fbb1bc62-fb7a-487f-a302-4f31a3521f4d",
   "metadata": {},
   "source": [
    "We can integrate both plots in one figure using subplots"
   ]
  },
  {
   "cell_type": "code",
   "execution_count": null,
   "id": "2308a2f1-8c86-4b99-b3c6-26838fd98428",
   "metadata": {},
   "outputs": [],
   "source": [
    "fig, axs = plt.subplots(1, 2, figsize=(18, 8))\n",
    "\n",
    "gdf.plot(column='EmpNumDep', ax=axs[0],\n",
    "         legend=True, cmap='viridis',\n",
    "         scheme='UserDefined',\n",
    "         classification_kwds={'bins': classifier_nb.bins}\n",
    "        )\n",
    "\n",
    "axs[0].set_title(\"Choropleth Map with Natural Breaks\")\n",
    "\n",
    "gdf.plot(column='EmpNumDep', ax=axs[1],\n",
    "         legend=True, cmap='viridis',\n",
    "         scheme='UserDefined',\n",
    "         classification_kwds={'bins': classifier_ei.bins})\n",
    "\n",
    "axs[1].set_title(\"Choropleth Map with Equal Intervals\")\n",
    "\n",
    "plt.tight_layout() #Optional but useful.\n",
    "plt.show()"
   ]
  },
  {
   "cell_type": "markdown",
   "id": "0b35d71d-022b-4bdc-b4a9-52e006bce553",
   "metadata": {},
   "source": [
    "**Finally**, let's make it interactive using Ploty; in this case, we need to create a column with the values from the classifier object. Then, we will use that new column to plot the map. I will also use another attribute CrimeCount"
   ]
  },
  {
   "cell_type": "code",
   "execution_count": null,
   "id": "adff82a2-bc72-4641-a1ac-cb6315981e0a",
   "metadata": {},
   "outputs": [],
   "source": [
    "num_classes = 5\n",
    "\n",
    "classifier_nb = mc.NaturalBreaks(gdf['CrimeCount'], k=num_classes)\n",
    "gdf['classification_nb'] = classifier_nb.yb #yb to get the values from the array.\n",
    "\n",
    "print(classifier_nb)\n",
    "print(gdf[['CrimeCount', 'classification_nb']])\n"
   ]
  },
  {
   "cell_type": "code",
   "execution_count": null,
   "id": "dfe774d4-f046-4b72-9ba8-35c08fd15027",
   "metadata": {},
   "outputs": [],
   "source": [
    "fig = px.choropleth_mapbox(gdf,\n",
    "                           geojson=gdf.geometry,\n",
    "                           locations=gdf.index,\n",
    "                           color=\"classification_nb\",\n",
    "                           color_continuous_scale=\"viridis\",\n",
    "                           range_color= (1, 5),\n",
    "                           opacity=0.5,\n",
    "                           center={\"lat\": 55.866193, \"lon\": -4.258246},\n",
    "                           mapbox_style=\"carto-positron\",\n",
    "                           zoom=9.5)\n",
    "fig.update_layout(margin={\"r\":0,\"t\":0,\"l\":0,\"b\":0})\n",
    "fig.show()"
   ]
  },
  {
   "cell_type": "code",
   "execution_count": null,
   "id": "62cd1caa-56a4-4959-88e3-f0147e59ee15",
   "metadata": {},
   "outputs": [],
   "source": [
    "num_classes = 5\n",
    "\n",
    "classifier_quant = mc.Quantiles(gdf['CrimeCount'], k=num_classes)\n",
    "gdf['classification_qn'] = classifier_quant.yb\n",
    "\n",
    "print(classifier_quant)\n",
    "print(gdf[['CrimeCount', 'classification_qn']])"
   ]
  },
  {
   "cell_type": "code",
   "execution_count": null,
   "id": "a24adb9f-4100-45a0-aa4a-0b6bfaba9263",
   "metadata": {},
   "outputs": [],
   "source": [
    "fig_2 = px.choropleth_mapbox(gdf,\n",
    "                           geojson=gdf.geometry,\n",
    "                           locations=gdf.index,\n",
    "                           color=\"classification_qn\",\n",
    "                           color_continuous_scale=\"viridis\",\n",
    "                           range_color= (1, 5),\n",
    "                           opacity=0.5,\n",
    "                           center={\"lat\": 55.866193, \"lon\": -4.258246},\n",
    "                           mapbox_style=\"carto-positron\",\n",
    "                           zoom=9.5)\n",
    "fig_2.update_layout(margin={\"r\":0,\"t\":0,\"l\":0,\"b\":0})\n",
    "fig_2.show()"
   ]
  },
  {
   "cell_type": "markdown",
   "id": "507a63b3-6db2-411c-bb7c-bec8df9e3e63",
   "metadata": {},
   "source": [
    "## Challenge 3\n",
    " \n",
    "Now is the time for you to create some choropleth maps. \n",
    "\n",
    "1. Go to this portal https://www.spatialdata.gov.scot/geonetwork/srv/eng/catalog.search#/home\n",
    "2. Get the Scottish Index of Multiple Deprivation (SIMD) 2020 dataset and extract the data only for the city of Edinburgh.\n",
    "3. Create two static choropleth maps (e.g. `matplotlib`). These maps should represent an attribute you find interesting in the SIMD dataset. Using two different classifier methods, you need to show how the maps appear different even though the data and attributes are the same. Include a clear description of your choice and the difference in the classification method for the attribute chosen (e.g. Plotting histograms with breakpoints(bins). You can find a complete list of classifiers at https://pysal.org/mapclassify/api.html.\n",
    "4. Finally, create other two interactive maps (e.g. `choropleth_mapbox`) - one for Glasgow and one for Edinburgh - to represent the difference in deprivation for both cities. Pick any of the available attributes.\n",
    "   > As always include the appropriate descriptions and code comments where you narrate how you are processing the data. And the insights you get from the results."
   ]
  },
  {
   "cell_type": "code",
   "execution_count": null,
   "id": "b90824a4-50f8-4122-822d-c8888394e3f7",
   "metadata": {},
   "outputs": [],
   "source": [
    "import requests\n",
    "import zipfile\n",
    "import os\n",
    "import pandas as pd\n",
    "import geopandas as gpd\n",
    "\n",
    "#downloading shapefile\n",
    "url = \"https://maps.gov.scot/ATOM/shapefiles/SG_SIMD_2020.zip\"\n",
    "zip_path = \"SG_SIMD_2020.zip\"\n",
    "extract_path = \"SG_SIMD_2020\"\n",
    "with open(zip_path, \"wb\") as f:\n",
    "    f.write(requests.get(url).content)\n",
    "\n",
    "#unzipping shapefile\n",
    "with zipfile.ZipFile(zip_path, \"r\") as zip_ref:\n",
    "    zip_ref.extractall(extract_path)\n",
    "\n",
    "#loading the shapefile into our gdf\n",
    "shapefile = [f for f in os.listdir(extract_path) if f.endswith(\".shp\")][0]\n",
    "gdf = gpd.read_file(os.path.join(extract_path, shapefile))\n",
    "\n",
    "#printing the first five rows of data\n",
    "print(gdf.head())"
   ]
  },
  {
   "cell_type": "markdown",
   "id": "eecd796a-a5ba-4624-b691-73f8dc0cc1e0",
   "metadata": {},
   "source": [
    "**References**: bytecode (2024). Reading multiple shapefiles with geopandas from a zip file in memory. [online] Stack Overflow. Available at: https://stackoverflow.com/questions/77823335/reading-multiple-shapefiles-with-geopandas-from-a-zip-file-in-memory."
   ]
  },
  {
   "cell_type": "code",
   "execution_count": null,
   "id": "2d45e10f-6ba2-4857-82c4-e1ea5de68cda",
   "metadata": {},
   "outputs": [],
   "source": [
    "#subset our data frame to keep only data for edinburgh city \n",
    "\n",
    "gdf_subset == gdf[gdf[\"LAName\"] == \"City of Edinburgh\"]\n",
    "gdf_subset.head(3)"
   ]
  },
  {
   "cell_type": "code",
   "execution_count": null,
   "id": "569ae52b-4713-4f25-9d27-80f2acd2ceb1",
   "metadata": {},
   "outputs": [],
   "source": [
    "#seeing the column titles\n",
    "gdf_subset.columns"
   ]
  },
  {
   "cell_type": "code",
   "execution_count": null,
   "id": "88bd5342-274d-450a-ad1e-d8fb348cc8b6",
   "metadata": {},
   "outputs": [],
   "source": [
    "#using matplot lib to create chloropleth maps \n",
    "import numpy as np\n",
    "import mapclassify as mc\n",
    "import matplotlib.pyplot as plt\n",
    "import folium\n",
    "import seaborn as sns\n",
    "\n",
    "#choosing my axes for the chloropleth map\n",
    "fig, axes = plt.subplots(1, 3, figsize=(15, 5))\n",
    "\n",
    "#exploring different variables through generating histograms\n",
    "sns.histplot(data=gdf_subset, x=\"IncRate\",ax=axes[0], kde=True) \n",
    "sns.histplot(data=gdf_subset, x=\"EduAttend\",ax=axes[1], kde=True) \n",
    "sns.histplot(data=gdf_subset, x=\"CrimeRate\",ax=axes[2], kde=True) \n",
    "\n",
    "axes[0].set_title(\"Income Rate\")\n",
    "axes[1].set_title(\"Educational Attendance\")\n",
    "axes[2].set_title(\"Crime Rate\")\n",
    "\n",
    "plt.tight_layout()\n",
    "plt.show()"
   ]
  },
  {
   "cell_type": "code",
   "execution_count": null,
   "id": "67972c9d-9566-4a33-9f5c-1b5068079913",
   "metadata": {},
   "outputs": [],
   "source": [
    "#checking for any missing values\n",
    "print(gdf_subset['IncRate'].isna().sum())\n",
    "print(gdf_subset['EduAttend'].isna().sum())\n",
    "print(gdf_subset['CrimeRate'].isna().sum())"
   ]
  },
  {
   "cell_type": "code",
   "execution_count": null,
   "id": "25bb4c6d-75cc-44a0-9b00-353bf17b0d74",
   "metadata": {},
   "outputs": [],
   "source": [
    "#checking the data types\n",
    "print(gdf_subset['IncRate'].dtype)\n",
    "print(gdf_subset['EduAttend'].dtype)\n",
    "print(gdf_subset['CrimeRate'].dtype)"
   ]
  },
  {
   "cell_type": "code",
   "execution_count": null,
   "id": "85b7cbcb-aa83-4b33-b50c-3548a244a830",
   "metadata": {},
   "outputs": [],
   "source": [
    "# number of classes for classification\n",
    "num_classes = 5\n",
    "\n",
    "# using natural breaks (jenks classification)\n",
    "classifier_nb = mc.NaturalBreaks(gdf_subset['CrimeRate'], k=num_classes)\n",
    "print(classifier_nb)\n",
    "print(min(classifier_nb.bins), max(classifier_nb.bins))\n",
    "print(classifier_nb.bins) #\n",
    "\n",
    "# using equal interval classification\n",
    "classifier_ei = mc.EqualInterval(gdf_subset['CrimeRate'], k=num_classes)\n",
    "print(classifier_ei)\n",
    "print(min(classifier_ei.bins), max(classifier_ei.bins))\n",
    "print(classifier_ei.bins) "
   ]
  },
  {
   "cell_type": "code",
   "execution_count": null,
   "id": "316efbf5-dc4d-44d7-93c5-f952cad13468",
   "metadata": {},
   "outputs": [],
   "source": [
    "#creating a histogram with breakpoints for the crime rate in Edinburgh\n",
    "\n",
    "fig, ax = plt.subplots(figsize=(8, 5))\n",
    "\n",
    "sns.histplot(data=gdf_subset, x=\"CrimeRate\", ax=ax, kde=True, bins=20)\n",
    "\n",
    "# defining the style of the lines to represent the breakpoints\n",
    "ax.axvline(classifier_nb.bins[0], color='red', linestyle='dashed', linewidth=2, label='Breakpoints') \n",
    "# a simple For to loop over all the elements in the array 'classifier_nb.bins'\n",
    "for bin_value in classifier_nb.bins:\n",
    "    ax.axvline(bin_value, color='red', linestyle='dashed', linewidth=2) \n",
    " \n",
    "#styling the histogram\n",
    "ax.set_title(\"Histogram with Breakpoints for Natural Breaks\")\n",
    "\n",
    "#adding a legend\n",
    "plt.legend()\n",
    "plt.show()"
   ]
  },
  {
   "cell_type": "code",
   "execution_count": null,
   "id": "b65379db-ba99-4dd8-ada7-643312039c8c",
   "metadata": {},
   "outputs": [],
   "source": [
    "fig, axes = plt.subplots(1, 2, figsize=(15, 5))\n",
    "#generating histogram for crime rates in Edinburgh with natural breaks\n",
    "sns.histplot(data=gdf_subset, x=\"CrimeRate\", ax=axes[0], kde=True, bins=20)\n",
    "axes[0].axvline(classifier_nb.bins[0], color='red', linestyle='dashed', linewidth=2, label='Natural Breaks')\n",
    "for bin_value in classifier_nb.bins:\n",
    "    axes[0].axvline(bin_value, color='red', linestyle='dashed', linewidth=2)\n",
    "axes[0].set_title(\"Crime Rate Histogram with Natural Breaks\")\n",
    "axes[0].legend()\n",
    "\n",
    "sns.histplot(data=gdf_subset, x=\"CrimeRate\", ax=axes[1], kde=True, bins=20)\n",
    "axes[1].axvline(classifier_ei.bins[0], color='blue', linestyle='dashed', linewidth=2, label='Quantiles')\n",
    "for bin_value in classifier_ei.bins:\n",
    "    axes[1].axvline(bin_value, color='blue', linestyle='dashed', linewidth=2)\n",
    "axes[1].set_title(\"Crime Rate Histogram with Quantiles\")\n",
    "axes[1].legend()\n",
    "#using the tight layout to display the histogram with natural breaks\n",
    "plt.tight_layout()\n",
    "plt.show()"
   ]
  },
  {
   "cell_type": "code",
   "execution_count": null,
   "id": "0e91f0e5-2376-4b00-8847-82dbfe14bd3d",
   "metadata": {},
   "outputs": [],
   "source": [
    "#generating a chloropleth map with natural breaks                                                                                                                                        fig, ax = plt.subplots(figsize=(12, 10))\n",
    "gdf_subset.plot(column='CrimeRate', ax=ax,\n",
    "         legend=True, cmap='viridis',\n",
    "         scheme='UserDefined',\n",
    "         classification_kwds={'bins': classifier_nb.bins} \n",
    "        )\n",
    "plt.title(\"Choropleth Map using mapclassify with Natural Breaks - Map 1\")\n",
    "plt.show()"
   ]
  },
  {
   "cell_type": "code",
   "execution_count": null,
   "id": "c7c0204b-a459-4407-8124-76f3f2fccff2",
   "metadata": {},
   "outputs": [],
   "source": [
    "#generating a chloropleth map with equal intervals\n",
    "fig, ax = plt.subplots(figsize=(12, 10))\n",
    "gdf_subset.plot(column='CrimeRate', ax=ax,\n",
    "         legend=True, cmap='viridis',\n",
    "         scheme='UserDefined',\n",
    "         classification_kwds={'bins': classifier_ei.bins},\n",
    "        )\n",
    "plt.title(\"Choropleth Map using Classifier with Equal Intervals - Map 2\")\n",
    "plt.show()"
   ]
  },
  {
   "cell_type": "code",
   "execution_count": null,
   "id": "678dd9c9-9c90-41cc-89c4-1dc08d5f5169",
   "metadata": {},
   "outputs": [],
   "source": [
    "#comparing the two chloropleth maps for crime rates in Edinburgh\n",
    "fig, axs = plt.subplots(1, 2, figsize=(18, 8))\n",
    "\n",
    "gdf_subset.plot(column='CrimeRate', ax=axs[0],\n",
    "         legend=True, cmap='viridis',\n",
    "         scheme='UserDefined',\n",
    "         classification_kwds={'bins': classifier_nb.bins}\n",
    "        )\n",
    "\n",
    "axs[0].set_title(\"Choropleth Map with Natural Breaks\")\n",
    "\n",
    "gdf_subset.plot(column='CrimeRate', ax=axs[1],\n",
    "         legend=True, cmap='viridis',\n",
    "         scheme='UserDefined',\n",
    "         classification_kwds={'bins': classifier_ei.bins})\n",
    "\n",
    "axs[1].set_title(\"Choropleth Map with Equal Intervals\")\n",
    "#using the tight layout\n",
    "plt.tight_layout() \n",
    "plt.show()"
   ]
  },
  {
   "cell_type": "code",
   "execution_count": null,
   "id": "0b374897-4de0-44ca-8656-c0eaf1aeea57",
   "metadata": {},
   "outputs": [],
   "source": [
    "#creating chloropleth mapbox using natural breaks\n",
    "num_classes = 5\n",
    "\n",
    "classifier_edi = mc.NaturalBreaks(gdf_subset['CrimeRate'], k=num_classes)\n",
    "gdf_subset['classification_edi'] = classifier_edi.yb #yb to get the values from the array.\n",
    "\n",
    "print(classifier_edi)\n",
    "print(gdf_subset[['CrimeRate', 'classification_nb']])"
   ]
  },
  {
   "cell_type": "code",
   "execution_count": null,
   "id": "b6839866-ab5f-4641-8907-a23f2ecdd3ee",
   "metadata": {},
   "outputs": [],
   "source": [
    "fig = px.choropleth_mapbox(gdf_subset,\n",
    "                           geojson=gdf_subset.geometry,\n",
    "                           locations=gdf_subset.index,\n",
    "                           color=\"classification_nb\",\n",
    "                           color_continuous_scale=\"viridis\",\n",
    "                           range_color= (1, 5),\n",
    "                           opacity=0.5,\n",
    "                           center={\"lat\": 55.866193, \"lon\": -4.258246},\n",
    "                           mapbox_style=\"carto-positron\",\n",
    "                           zoom=9.5)\n",
    "fig.update_layout(margin={\"r\":0,\"t\":0,\"l\":0,\"b\":0})\n",
    "fig.show()"
   ]
  },
  {
   "cell_type": "code",
   "execution_count": null,
   "id": "68af8e64-6908-489a-86ad-aa3a5231286f",
   "metadata": {},
   "outputs": [],
   "source": [
    "#checking for the LA name for glasgow\n",
    "print(gdf[\"LAName\"].unique())  "
   ]
  },
  {
   "cell_type": "code",
   "execution_count": null,
   "id": "7b0c8a93-af09-4ee4-9f37-ab6ff2ec52de",
   "metadata": {},
   "outputs": [],
   "source": [
    "#comparing glasgow and edinburgh \n",
    "\n",
    "#creating a subset for glasgow to compare to edinburgh\n",
    "gdf_subset2 == gdf[gdf[\"LAName\"] == \"Glasgow City\"]\n",
    "gdf_subset2.head(3)"
   ]
  },
  {
   "cell_type": "code",
   "execution_count": null,
   "id": "bc6b906e-fa31-46df-97eb-8af36c517add",
   "metadata": {},
   "outputs": [],
   "source": [
    "#observing the columns\n",
    "gdf_subset2.columns"
   ]
  },
  {
   "cell_type": "code",
   "execution_count": null,
   "id": "cb09dcdb-a7b3-4fac-8bca-fd8bc09c2d78",
   "metadata": {},
   "outputs": [],
   "source": [
    "#generating a mapbox for Glasgow crime rate\n",
    "num_classes = 5\n",
    "\n",
    "classifier_gla = mc.NaturalBreaks(gdf_subset2['CrimeRate'], k=num_classes)\n",
    "gdf_subset2['classification_gla'] = classifier_nb.yb #yb to get the values from the array.\n",
    "\n",
    "print(classifier_gla)\n",
    "print(gdf_subset2[['CrimeRate', 'classification_nb']])"
   ]
  },
  {
   "cell_type": "code",
   "execution_count": null,
   "id": "367edd25-2961-4888-9d94-88edad08a30e",
   "metadata": {},
   "outputs": [],
   "source": [
    "fig = px.choropleth_mapbox(gdf_subset2,\n",
    "                           geojson=gdf_subset2.geometry,\n",
    "                           locations=gdf_subset2.index,\n",
    "                           color=\"classification_nb\",\n",
    "                           color_continuous_scale=\"viridis\",\n",
    "                           range_color= (1, 5),\n",
    "                           opacity=0.5,\n",
    "                           center={\"lat\": 55.866193, \"lon\": -4.258246},\n",
    "                           mapbox_style=\"carto-positron\",\n",
    "                           zoom=9.5)\n",
    "fig.update_layout(margin={\"r\":0,\"t\":0,\"l\":0,\"b\":0})\n",
    "fig.show()"
   ]
  },
  {
   "cell_type": "code",
   "execution_count": null,
   "id": "771565fa-0ec8-4e14-966a-41656a989be8",
   "metadata": {},
   "outputs": [],
   "source": [
    "#comparing the mapbox for Glasgow vs Edinburgh's crime rate\n",
    "ig = make_subplots(rows=1, cols=2, subplot_titles=(\"Glasgow Crime Rate\", \"Edinburgh Crime Rate\"),\n",
    "                    specs=[[{\"type\": \"mapbox\"}, {\"type\": \"mapbox\"}]])\n",
    "\n",
    "#combining both figures\n",
    "fig.add_trace(fig_glasgow.data[0], row=1, col=1)\n",
    "fig.add_trace(fig_edinburgh.data[0], row=1, col=2)\n",
    "\n",
    "#updating the layout\n",
    "fig.update_layout(mapbox_style=\"carto-positron\",\n",
    "                  margin={\"r\":0,\"t\":50,\"l\":0,\"b\":0},\n",
    "                  height=600,\n",
    "                  showlegend=False)\n",
    "#displaying the figure\n",
    "fig.show()"
   ]
  },
  {
   "cell_type": "markdown",
   "id": "08d444c4-b230-400e-a541-40c8e9ea04d1",
   "metadata": {},
   "source": [
    "# Finishing the Lab\n",
    "\n",
    "Please ensure that you save all your code and upload the latest version of this notebook to your **GitHub repository**. \n",
    "\n",
    "> Always check the size of your notebook before making any commit; use the `.gitignore` to skip big data sets or undesired files., but describe where to find the data and the correct structure, so when the marker forks, your code will be able to reproduce your results. \n"
   ]
  },
  {
   "cell_type": "markdown",
   "id": "af83cecc-b8c4-48cc-aaa3-4b29aa70d7b9",
   "metadata": {},
   "source": [
    "# More resources\n",
    "\n",
    "* [Ploty](https://www.geeksforgeeks.org/choropleth-maps-using-plotly-in-python/) - some useful examples of ploty implementations\n",
    "* [mapclassify from PySAL](https://nbviewer.org/github/pysal/mapclassify/blob/main/notebooks/03_choropleth.ipynb) - Examples of implementing mapclassify from PySAL\n",
    "* [Choroplet Maps Theory Behind](https://geographicdata.science/book/notebooks/05_choropleth.html) - Spatial Data Science Book"
   ]
  },
  {
   "cell_type": "code",
   "execution_count": null,
   "id": "a2262152-b8ac-49fd-b574-ba8ae0bd92c7",
   "metadata": {},
   "outputs": [],
   "source": []
  }
 ],
 "metadata": {
  "kernelspec": {
   "display_name": "Python 3 (ipykernel)",
   "language": "python",
   "name": "python3"
  },
  "language_info": {
   "codemirror_mode": {
    "name": "ipython",
    "version": 3
   },
   "file_extension": ".py",
   "mimetype": "text/x-python",
   "name": "python",
   "nbconvert_exporter": "python",
   "pygments_lexer": "ipython3",
   "version": "3.12.8"
  }
 },
 "nbformat": 4,
 "nbformat_minor": 5
}
