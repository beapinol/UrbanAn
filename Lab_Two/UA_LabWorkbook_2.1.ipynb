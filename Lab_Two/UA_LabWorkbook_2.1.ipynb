{
 "cells": [
  {
   "cell_type": "markdown",
   "id": "34c1614d-2793-4237-a4d9-137d0f89a60b",
   "metadata": {},
   "source": [
    "# GG4257 - Urban Analytics: A Toolkit for Sustainable Urban Development\n",
    "## Lab Workbook No 2: Data Manipulation and Working with Web Services\n",
    "## CHALLENGE ONE \n",
    "---\n",
    "Dr Fernando Benitez -  University of St Andrews - School of Geography and Sustainable Development - Iteration 2025"
   ]
  },
  {
   "cell_type": "markdown",
   "id": "22552605-aaf7-400d-8b8f-256396bd43f5",
   "metadata": {
    "jp-MarkdownHeadingCollapsed": true
   },
   "source": [
    "# Objectives\n",
    "\n",
    "- Practice and get familiar with the urban data landscape\n",
    "- Understand the *messiness* of real world (urban) data\n",
    "- Create common objects used to store data\n",
    "- Read tabular and spatial data formats into Python\n",
    "- Subset and merge data\n",
    "- Manipulate data and calculate new values\n",
    "- Practice basic techiques of Data Manipulation and learn how to use Python to access programmatically urban data and understand the benefits of it\n"
   ]
  },
  {
   "cell_type": "markdown",
   "id": "c7e6bad4-0c4d-4c6a-b085-e954304fb955",
   "metadata": {},
   "source": [
    "# Data Manipulation\n",
    "\n",
    "Access and manipulate data is very important when it comes to work with python or any kind of programming langague, you need to feel confortable by reading and manipulating data in this programatic way. Initially it will seems it is more complicated, but later with practice you will see the advangte of dealing with data in this way. \n"
   ]
  },
  {
   "cell_type": "markdown",
   "id": "90602f00-7d62-4d60-bb3b-2b73721e4ccf",
   "metadata": {},
   "source": [
    "## Arrays and Data Frames (Numpy and Pandas)\n",
    "\n",
    "As you recall from the previous modules ( GG3209), there are two packages that can help you to read data in your computer memory and then let you manipulate them in a more efficient way. \n",
    "\n",
    "Two main object types that can be used to store tabular data in Python include the data frame and array. Each column of a data frame must be a single type, but different columns can be different types (e.g. string, float, etc.); all the columns of an array must be the same type. You can create these within Python manually or by reading in other common formats such as spreadsheets or csv files.\n"
   ]
  },
  {
   "cell_type": "code",
   "execution_count": null,
   "id": "7f909796-1f27-4e38-9ca0-eae46066a727",
   "metadata": {},
   "outputs": [],
   "source": [
    "import numpy as np\n",
    "import pandas as pd\n",
    "\n",
    "#Create two arrays\n",
    "years = range(2010, 2018) #creates a list of consecutive integers from 2010 to 2017\n",
    "a = np.repeat(years, 4) #this uses numpy's repeat() function to repeat values\n",
    "b = np.random.randint(0, 40, 32) # the randint() function can be used to generate random integers - in this case 32 values between 0 and 40\n",
    "#Create data frame\n",
    "c = pd.DataFrame({'a':a,'b':b})  #the curly brackets indicate a dictionary"
   ]
  },
  {
   "cell_type": "markdown",
   "id": "929db3e1-8b0f-4220-b12d-7647ac00932d",
   "metadata": {},
   "source": [
    "The last line says to make a two column data frame, where the first column is called `'a'` and has the values from the `a` array, and the second column is called `'b'` and contains the values from the `b` array.\n",
    "\n",
    "You can type `c` into the console to return the whole data frame, however, you might just want to look at the top few rows. This can be achieved with the `head()` method:"
   ]
  },
  {
   "cell_type": "code",
   "execution_count": null,
   "id": "ff000075-90e0-4c11-bb10-71c141112d48",
   "metadata": {},
   "outputs": [],
   "source": [
    "#head returns the top five rows\n",
    "c.head()"
   ]
  },
  {
   "cell_type": "markdown",
   "id": "0d3dd944-2181-4ef3-b063-228583dc41be",
   "metadata": {},
   "source": [
    "In a similar way you can create arrays using the numpy package."
   ]
  },
  {
   "cell_type": "code",
   "execution_count": null,
   "id": "18ecfda8-f9e6-4d7d-9af5-ce7935d4c309",
   "metadata": {},
   "outputs": [],
   "source": [
    "#Create a list of numbers\n",
    "a = range(0, 25) #the range function generates a range of integers\n",
    "\n",
    "b = np.array(a) #creates a one dimensional array\n",
    "b = b.reshape(5,5) #create an array with 5 rows and 5 columns\n",
    "b"
   ]
  },
  {
   "cell_type": "markdown",
   "id": "797ec082-9243-4c83-a5ee-bd555b8019ab",
   "metadata": {},
   "source": [
    "It is possible to multiply a numeric array by a constant or another array"
   ]
  },
  {
   "cell_type": "code",
   "execution_count": null,
   "id": "75dff3fe-d6c5-4198-be29-d925c0b8edac",
   "metadata": {},
   "outputs": [],
   "source": [
    "#Multiply b by 10\n",
    "b * 10"
   ]
  },
  {
   "cell_type": "code",
   "execution_count": null,
   "id": "592878d6-0e13-4d41-b240-23094e1c35de",
   "metadata": {},
   "outputs": [],
   "source": [
    "#Multiply b * b\n",
    "b * b "
   ]
  },
  {
   "cell_type": "markdown",
   "id": "19908527-f710-48fa-b51c-a50c4c576f20",
   "metadata": {},
   "source": [
    "Extracting elements from a one dimensional array is the same as a list; for a two dimensional array the slicing is formatted as [row number, column number]. For example:"
   ]
  },
  {
   "cell_type": "code",
   "execution_count": null,
   "id": "a42a7efa-8151-42f2-af84-fd9630c53657",
   "metadata": {},
   "outputs": [],
   "source": [
    "#Extract the 0 position row\n",
    "b[0,:]  #the colon means give all elements along that dimension\n",
    "\n",
    "#Extract 3 position column\n",
    "b[:,3]\n",
    "\n",
    "#Extract the 2 and 3 position columns\n",
    "b[:,2:4] # The colon is used to define a numeric vector between the two numbers\n",
    "\n",
    "#Extract 0 and 3 position rows\n",
    "b[[0,3],:] # The list ([0,3]) is used to identify the indexes to be extracted\n",
    "\n",
    "#Extract the value in the 2 position row and 3 position column\n",
    "b[2,3]\n",
    "\n",
    "# If you run this cell you will get the output only from the last part of the script,\n",
    "# if you want to see the outcome of every part, just copy and paste the code in another code cell"
   ]
  },
  {
   "cell_type": "markdown",
   "id": "8ef81c05-881e-4b18-b3d5-fda509033493",
   "metadata": {},
   "source": [
    "In the data frame that you created earlier, you can use a similar notation to extract values based on the row and column indexes. It is formatted as `.iloc[row index, column index]`.\n",
    "\n",
    "As you see in the previous practices, `iloc` and `loc` are key methods to explore, filter and manipulate data uisng pandas. So make sure you understand how that work. "
   ]
  },
  {
   "cell_type": "code",
   "execution_count": null,
   "id": "354da6c0-f017-467f-aff6-ea544938e984",
   "metadata": {},
   "outputs": [],
   "source": [
    "c.iloc[23,1]"
   ]
  },
  {
   "cell_type": "markdown",
   "id": "1440e875-a74a-4bc7-a424-474b6580ec2d",
   "metadata": {},
   "source": [
    "Data frames can have named rows and columns, which can be used for indexing. It is formatted as `loc[row name, column name]`"
   ]
  },
  {
   "cell_type": "code",
   "execution_count": null,
   "id": "7b85b373-eb41-4400-a320-f80e4d5823f4",
   "metadata": {},
   "outputs": [],
   "source": [
    "c.loc[23,'b']"
   ]
  },
  {
   "cell_type": "markdown",
   "id": "65146c88-e292-4980-a5f9-e00cfa8a6752",
   "metadata": {},
   "source": [
    "You can also reference the column names themselves using dot notation, for example:"
   ]
  },
  {
   "cell_type": "code",
   "execution_count": null,
   "id": "6cf643b2-3c54-429d-bbec-a7ce1a34cab0",
   "metadata": {
    "scrolled": true
   },
   "outputs": [],
   "source": [
    "#Return all the values in the column called \"a\"\n",
    "c.a"
   ]
  },
  {
   "cell_type": "code",
   "execution_count": null,
   "id": "6a2b15fd-9f87-426c-9f98-23f45f35fc7d",
   "metadata": {},
   "outputs": [],
   "source": [
    "#A different way of returning the column called \"a\"\n",
    "c[\"a\"]"
   ]
  },
  {
   "cell_type": "code",
   "execution_count": null,
   "id": "af69a577-0180-4cc5-8206-b22ba3d2ed60",
   "metadata": {
    "scrolled": true
   },
   "outputs": [],
   "source": [
    "#Yet another way of returning the column called \"a\"\n",
    "c.loc[:,\"a\"]"
   ]
  },
  {
   "cell_type": "markdown",
   "id": "ca980a65-3560-40e3-8ca7-949afc92505b",
   "metadata": {},
   "source": [
    "We can also find out what a data frame's column names are using the `columns` attribute:"
   ]
  },
  {
   "cell_type": "code",
   "execution_count": null,
   "id": "88d02a5c-480d-4ad1-8026-389491dd50ce",
   "metadata": {},
   "outputs": [],
   "source": [
    "c.columns"
   ]
  },
  {
   "cell_type": "markdown",
   "id": "eba1dd84-7a14-459c-b18f-7a00f84cf020",
   "metadata": {},
   "source": [
    "There are many ways you can rename the columns, here one of those:"
   ]
  },
  {
   "cell_type": "code",
   "execution_count": null,
   "id": "f1d13ac5-3d03-43fa-a748-c2d7fb831af5",
   "metadata": {},
   "outputs": [],
   "source": [
    "c = c.rename(columns={'a': 'Year', 'b': 'Count'})\n",
    "c.head()"
   ]
  },
  {
   "cell_type": "markdown",
   "id": "3a64186c-78ab-40b3-b008-2e4558a531ad",
   "metadata": {},
   "source": [
    "# Challenge No 1:\n",
    "\n",
    "1. Using a Dictionary, create a dataframe (table), with at least 4 columns and more than 100 rows. How come you can create this among data from scratch without defining every single row of data? \n",
    "2. Using the appropriate method, create a new DataFrame containing only the first 30 rows and the first 3 columns of the original DataFrame. Name this new DataFrame subset_df.\n",
    "3. Using the appropriate method, filter the rows from the original dataframe where a numerical attribute(column) is greater than a particular numerical value, and find another categorical attribute that is equal to a specific string or text. Name this new DataFrame filtered_df.\n",
    "4. Check this website https://pandas.pydata.org/pandas-docs/stable/reference/api/pandas.DataFrame.mean.html and apply the methods, mean, standard deviation, group_by to run fundamental statistical analysis of your created data frame.\n",
    "5. Make sure you comment on your code and describe how you are manipulating the data.\n"
   ]
  },
  {
   "cell_type": "code",
   "execution_count": 1,
   "id": "0c0860d2-5e96-40ac-b42a-7aef169d3521",
   "metadata": {},
   "outputs": [
    {
     "name": "stdout",
     "output_type": "stream",
     "text": [
      "   Bromley  Croydon  Dagenham  Lewisham\n",
      "0       11       17        12        24\n",
      "1       24       23         8        20\n",
      "2       19       11        10        17\n",
      "3       15       21        12        22\n",
      "4       12       24        24        14\n"
     ]
    }
   ],
   "source": [
    "#1.Using a Dictionary, create a dataframe (table), with at least 4 columns and more than 100 rows. How come you can create this among data from scratch without defining every single row of data?\n",
    "import numpy as np  \n",
    "import pandas as pd\n",
    "\n",
    "np.random.seed(42)\n",
    "\n",
    "num_rows = 150\n",
    "\n",
    "data = {\n",
    "    'Bromley': np.random.randint(5, 30, num_rows),\n",
    "    'Croydon': np.random.randint(5, 30, num_rows),\n",
    "    'Dagenham': np.random.randint(5, 30, num_rows),\n",
    "    'Lewisham': np.random.randint(5, 30, num_rows)\n",
    "}\n",
    "\n",
    "df = pd.DataFrame(data)\n",
    "print(df.head())"
   ]
  },
  {
   "cell_type": "code",
   "execution_count": 2,
   "id": "399acb87-4b15-4a59-b160-c0c6b062a0d8",
   "metadata": {},
   "outputs": [
    {
     "name": "stdout",
     "output_type": "stream",
     "text": [
      "    Bromley  Croydon  Dagenham\n",
      "0        11       17        12\n",
      "1        24       23         8\n",
      "2        19       11        10\n",
      "3        15       21        12\n",
      "4        12       24        24\n",
      "5        25        8         7\n",
      "6        11        9        20\n",
      "7        23       27        29\n",
      "8        27       11         7\n",
      "9        15       17        29\n",
      "10       15       19        22\n",
      "11       28       15        18\n",
      "12       25        8        22\n",
      "13        8       17         6\n",
      "14       12       11        26\n",
      "15       28       23         7\n",
      "16        7       26        20\n",
      "17       26        6        13\n",
      "18       25       14         8\n",
      "19        6       17         5\n",
      "20       28       29         8\n",
      "21       16       25         5\n",
      "22       10       10        18\n",
      "23        6       16        25\n",
      "24       25       16        20\n",
      "25        5       24        24\n",
      "26       16       15        28\n",
      "27       26       27        12\n",
      "28       16       29        11\n",
      "29       29       11         7\n"
     ]
    }
   ],
   "source": [
    "subset_df = df.iloc[:30, :3]\n",
    "print(subset_df)"
   ]
  },
  {
   "cell_type": "code",
   "execution_count": 3,
   "id": "94583166-65e9-4ddf-8dd0-131fb19340da",
   "metadata": {},
   "outputs": [
    {
     "name": "stdout",
     "output_type": "stream",
     "text": [
      "0     17\n",
      "3     21\n",
      "4     24\n",
      "7     27\n",
      "9     17\n",
      "10    19\n",
      "11    15\n",
      "14    11\n",
      "24    16\n",
      "26    15\n",
      "27    27\n",
      "28    29\n",
      "Name: Croydon, dtype: int32\n"
     ]
    }
   ],
   "source": [
    "filtered_df = subset_df.loc[(subset_df > 10).all(axis=1)]\n",
    "filtered_C_df = filtered_df.loc[:,'Croydon']\n",
    "\n",
    "print(filtered_C_df)"
   ]
  },
  {
   "cell_type": "code",
   "execution_count": 4,
   "id": "2f50fb0c-aa47-46f9-83ac-5da4e52e7ad4",
   "metadata": {},
   "outputs": [
    {
     "data": {
      "text/plain": [
       "np.float64(19.833333333333332)"
      ]
     },
     "execution_count": 4,
     "metadata": {},
     "output_type": "execute_result"
    }
   ],
   "source": [
    "#applying the mean\n",
    "filtered_C_df.mean(axis=0, skipna=True, numeric_only=False)"
   ]
  },
  {
   "cell_type": "code",
   "execution_count": 5,
   "id": "09b5734b-3d0f-43bd-8258-be36447db028",
   "metadata": {},
   "outputs": [
    {
     "data": {
      "text/plain": [
       "np.float64(5.734002779802943)"
      ]
     },
     "execution_count": 5,
     "metadata": {},
     "output_type": "execute_result"
    }
   ],
   "source": [
    "#applying standard deviation\n",
    "filtered_C_df.std(axis=0, skipna=True, ddof=1, numeric_only=False)"
   ]
  },
  {
   "cell_type": "code",
   "execution_count": 6,
   "id": "3d892056-866b-48c5-b584-09766f4794be",
   "metadata": {},
   "outputs": [
    {
     "name": "stdout",
     "output_type": "stream",
     "text": [
      "           Croydon   Dagenham   Lewisham\n",
      "Bromley                                 \n",
      "5        21.857143  18.714286  22.714286\n",
      "6        19.333333  16.000000  17.000000\n",
      "7        11.888889  12.777778  15.888889\n",
      "8        15.833333  21.833333  13.666667\n",
      "9        22.600000  16.000000  20.600000\n",
      "10       18.500000  11.500000  28.500000\n",
      "11       13.555556  19.777778  16.222222\n",
      "12       15.100000  24.200000  13.600000\n",
      "13       16.714286  17.428571  14.857143\n",
      "14       14.000000  15.800000  25.200000\n",
      "15       15.500000  20.000000  20.750000\n",
      "16       17.000000  18.555556  14.222222\n",
      "17       10.000000  15.333333   9.000000\n",
      "18       21.000000  14.000000  12.500000\n",
      "19       19.090909  15.545455  21.181818\n",
      "20       21.500000  18.000000  11.000000\n",
      "21       14.666667  11.666667  16.000000\n",
      "22       18.800000  14.800000  15.200000\n",
      "23       16.250000  25.500000  23.500000\n",
      "24       19.333333  15.666667  21.000000\n",
      "25       16.750000  11.000000  17.625000\n",
      "26       18.400000  13.800000  16.400000\n",
      "27       13.500000  18.166667  19.833333\n",
      "28       18.285714  15.142857  18.142857\n",
      "29       14.666667  11.666667  16.333333\n"
     ]
    }
   ],
   "source": [
    "#applying group_by \n",
    "grouped_df = df.groupby(['Bromley']).mean()\n",
    "print(grouped_df)"
   ]
  },
  {
   "cell_type": "markdown",
   "id": "3c9e77da-1a7d-4b9d-8beb-4aa3ab9de8cc",
   "metadata": {},
   "source": [
    "## Reading External Data\n",
    "\n",
    "For most urban analytics you are more likely to be reading external data into Python rather than creating data objects from scratch. Tabular data is commonly stored in text files such as CSV, or on spreadsheets; and explicitly spatial data will likely be stored in formats such as Shapefiles.\n",
    "\n",
    "A common way in which data can be stored externally are the use of `.csv` files. These are text files, and have a very simple format where columns of attributes are separated by a comma, and each row by a carriage return.\n",
    "\n",
    "**Note:** There are a range of different delimiters which can be used in addition to a comma, with the most common being tab; although sometimes characters not commonly used such as bar/pipe (`|`) will be used.\n",
    "\n",
    "In the following example you will read in some U.S. Census Bureau, 2010-2014 American Community Survey (ACS) 5-Year Estimate data. This was downloaded from the [American Fact Finder](https://factfinder.census.gov) website. The data are for census tracts in San Francisco and relate to median earnings in the past 12 months.\n",
    "\n",
    "Reading CSV files into Python uses pandas `read_csv` function: "
   ]
  },
  {
   "cell_type": "code",
   "execution_count": null,
   "id": "c024788e-986a-413e-8c3d-47f241e9db48",
   "metadata": {},
   "outputs": [],
   "source": [
    "#Read CSV file - creates a data frame called earnings\n",
    "earnings = pd.read_csv(r\"C:\\Users\\user\\Documents\\UA_Lab\\Data\\LabTwo\\ACS_14_5YR_S2001_with_ann.csv\")\n",
    "\n",
    "#Show column headings\n",
    "earnings.columns\n",
    "\n",
    "#UID - Tract ID\n",
    "#pop - estimated total population over 16 with income\n",
    "#pop_m - estimated total population over 16 with income (margin of error)\n",
    "#earnings - estimated median earnings\n",
    "#earnings_m - estimated median earnings (margin of error)"
   ]
  },
  {
   "cell_type": "markdown",
   "id": "799e2b21-0c33-4ed0-a0b6-35052a0997da",
   "metadata": {},
   "source": [
    "It is possible to show the structure of the object using the `info()` method."
   ]
  },
  {
   "cell_type": "code",
   "execution_count": null,
   "id": "34a449d0-6536-4249-8d88-54ca717bf457",
   "metadata": {},
   "outputs": [],
   "source": [
    "earnings.info()"
   ]
  },
  {
   "cell_type": "markdown",
   "id": "8b3d1160-fdd9-4092-bae2-3df80e1bb4bf",
   "metadata": {},
   "source": [
    "This shows that the object is a Pandas data frame with 197 rows and 5 variables. For each of the attributes the class is shown (e.g. `int64` indicates integer). The `read_csv()` function guesses the column types when the data are read into Python.\n",
    "\n",
    "One issue you might notice is that the earnings and earnings_m variables have been read in as an `object`. The reason these columns were not read as integers (like the UID, pop, pop_m) is the presence of two non-numeric values which are shown as \"*\" and \"-\". In ACS data these two symbols indicate that the sample sizes were either no sample observations or too few sample observations to make a calculation.\n",
    "\n",
    "Issues such as these are quite common when reading in external data; and we will look at how this can be corrected later.\n",
    "\n"
   ]
  },
  {
   "cell_type": "markdown",
   "id": "2b95bae2-d425-414c-a9b6-12f6b5ea1e2e",
   "metadata": {},
   "source": [
    "**However!**: Not all tabular data are distributed as textfiles, and another very common format is Microsoft Excel format - .xls or xlsx.\n",
    "\n",
    "The following code downloads an Excel File from the [London Data Store](https://data.london.gov.uk/) and then reads this into Python.\n",
    "\n",
    ">Note: In the following code you will fetch data from a URL, something that is new at this point, I will describe better the importance of working with web services later in the next seccion of this workbook.\n"
   ]
  },
  {
   "cell_type": "code",
   "execution_count": null,
   "id": "81a7ae48-c58e-4684-ade5-0b053d633943",
   "metadata": {},
   "outputs": [],
   "source": [
    "import urllib.request\n",
    "url = \"https://data.london.gov.uk/download/uk-house-price-index/70ac0766-8902-4eb5-aab5-01951aaed773/UK%20House%20price%20index.xlsx\"\n",
    "urllib.request.urlretrieve(url, \"data/UK_House_price_index.xlsx\")"
   ]
  },
  {
   "cell_type": "code",
   "execution_count": null,
   "id": "83a91cc7-b209-4de7-9a65-60a521e82bad",
   "metadata": {},
   "outputs": [],
   "source": [
    "#Read workbook\n",
    "house_price = pd.read_excel(r\"C:\\Users\\user\\Documents\\UA_Lab\\Data\\LabTwo\\UK_House_price_index.xlsx\", sheet_name='Average price')\n",
    "house_price"
   ]
  },
  {
   "cell_type": "markdown",
   "id": "dc3b14ce-d232-49ba-98b2-5966515b8ac2",
   "metadata": {},
   "source": [
    "## Reading Spatial Data\n",
    "\n",
    "Spatial data are distributed in a variety of formats, but Shapefiles. are maybe the most common format. These can be read into Python using a number of packages, however, is illustrated here with \"geopandas\". You have experienced GeoPandas already in the previous module, but here you can practice once again.\n",
    "\n",
    "The following code loads the house composition from the latest Census in the UK downloaded from the [NOMIS Data](https://www.nomisweb.co.uk/datasets/c2021ts003)."
   ]
  },
  {
   "cell_type": "code",
   "execution_count": null,
   "id": "7fa8150b-6f77-4f96-bd5c-b2fb4be1fdaf",
   "metadata": {},
   "outputs": [],
   "source": [
    "# Loading house data \n",
    "import pandas as pd\n",
    "house_data = pd.read_excel(r\"C:\\Users\\user\\Documents\\UA_Lab\\Data\\LabTwo\\householdcomposition.xlsx\")\n",
    "pd.options.display.max_columns = None\n",
    "house_data.head()"
   ]
  },
  {
   "cell_type": "code",
   "execution_count": null,
   "id": "5f02c50d-0752-4a34-8165-63614a8de45e",
   "metadata": {},
   "outputs": [],
   "source": [
    "house_data.columns"
   ]
  },
  {
   "cell_type": "code",
   "execution_count": null,
   "id": "a4b3d6b6-827d-4dfe-93d6-2fa72b3fd4e6",
   "metadata": {},
   "outputs": [],
   "source": [
    "house_data.info()"
   ]
  },
  {
   "cell_type": "markdown",
   "id": "dee9df79-16c3-45f6-8949-a11f5db00e5e",
   "metadata": {},
   "source": [
    "You have noticed by using the `.info()` and .columns methods that our dataset have some issues than need to resolve before we move forwards. The initial issue is the name of the columns, and the `Dytpe`\n",
    "of the columns, instead of having a string and numerical or float/intenger values, we have object, which tells us that there is something on those columns that might need to get removed. "
   ]
  },
  {
   "cell_type": "code",
   "execution_count": null,
   "id": "7e4fcd95-011e-4f6f-a507-2190030b06d7",
   "metadata": {},
   "outputs": [],
   "source": [
    "#Let's start by renaming some of the most important columns names.\n",
    "house_data.rename(columns={'2021 super output area - middle layer':'2021_MSOA_name','Unnamed: 1': 'MSOA21CD', 'Total: All households': 'All_households', 'One-person household':'1Person_household'}, inplace=True)\n",
    "house_data.head()"
   ]
  },
  {
   "cell_type": "code",
   "execution_count": null,
   "id": "28664968-7e43-4908-8954-f0b3c6d30130",
   "metadata": {},
   "outputs": [],
   "source": [
    "house_data['2021_MSOA_name'] = house_data['2021_MSOA_name'].astype(str)\n",
    "house_data['MSOA21CD'] = house_data['MSOA21CD'].astype(str)"
   ]
  },
  {
   "cell_type": "code",
   "execution_count": null,
   "id": "3d05b649-f3da-44af-9be5-f8e25941520c",
   "metadata": {},
   "outputs": [],
   "source": [
    "house_data.info()"
   ]
  },
  {
   "cell_type": "markdown",
   "id": "e84e5d80-a5f8-4353-b877-4c2dbd02f04b",
   "metadata": {},
   "source": [
    "Here we are loading a shapefile from the latest version of census boundaries included in the The Open Geography portal from the Office for National Statistics (ONS) https://geoportal.statistics.gov.uk/ "
   ]
  },
  {
   "cell_type": "code",
   "execution_count": null,
   "id": "9549b48d-75c2-4d42-ae78-381c314a5f95",
   "metadata": {},
   "outputs": [],
   "source": [
    "#Loading geopandas\n",
    "import geopandas as gpd\n",
    "\n",
    "# Read Shapefile\n",
    "shapefile_path = r\"C:\\Users\\user\\Documents\\UA_Lab\\Data\\LabTwo\\MSOA_2021_BGC/MSOA_2021_EW_BGC_V2.shp\"\n",
    "gdf_shapefile = gpd.read_file(shapefile_path)"
   ]
  },
  {
   "cell_type": "code",
   "execution_count": null,
   "id": "df4f6294-fba4-40a8-a576-478ce26e8bf7",
   "metadata": {},
   "outputs": [],
   "source": [
    "gdf_shapefile.head()"
   ]
  },
  {
   "cell_type": "code",
   "execution_count": null,
   "id": "3626bdf2-205a-4264-8ec7-a91b084f90fc",
   "metadata": {},
   "outputs": [],
   "source": [
    "gdf_shapefile.crs"
   ]
  },
  {
   "cell_type": "code",
   "execution_count": null,
   "id": "e94ec60b-3e28-4d1c-a2cb-6975e7e1796d",
   "metadata": {},
   "outputs": [],
   "source": [
    "gdf_shapefile.explore()"
   ]
  },
  {
   "cell_type": "code",
   "execution_count": null,
   "id": "28e54b64-6399-4a1b-bbf1-3ea735a9741f",
   "metadata": {},
   "outputs": [],
   "source": [
    "gdf_wgs84 = gdf_shapefile.to_crs(epsg=4326)"
   ]
  },
  {
   "cell_type": "code",
   "execution_count": null,
   "id": "de8be5b5-ac1f-4e72-ad34-b73bad903ff3",
   "metadata": {},
   "outputs": [],
   "source": [
    "gdf_wgs84.crs"
   ]
  },
  {
   "cell_type": "code",
   "execution_count": null,
   "id": "3c7414c1-779e-4053-b039-67b43ab837ff",
   "metadata": {},
   "outputs": [],
   "source": [
    "gdf_wgs84.dtypes"
   ]
  },
  {
   "cell_type": "markdown",
   "id": "a550667d-c166-437f-8484-4fcc9f4b9696",
   "metadata": {},
   "source": [
    "Now, we can also create a Dictionary to define which columns we would like to keep in a more curated dataframe"
   ]
  },
  {
   "cell_type": "code",
   "execution_count": null,
   "id": "2379e23b-6d4d-487b-af40-e4b1576a81b1",
   "metadata": {},
   "outputs": [],
   "source": [
    "keep_cols = [\n",
    "    \"MSOA21CD\",\n",
    "    \"MSOA21NM\",\n",
    "    \"geometry\",\n",
    "]\n",
    "msoa_shp = gdf_wgs84[keep_cols]\n",
    "msoa_shp.head()"
   ]
  },
  {
   "cell_type": "code",
   "execution_count": null,
   "id": "d9dd104c",
   "metadata": {},
   "outputs": [],
   "source": [
    "msoa_shp.explore()"
   ]
  },
  {
   "cell_type": "code",
   "execution_count": 26,
   "id": "7ed9680f-c97f-408a-8dfd-fecb0c3d44cb",
   "metadata": {},
   "outputs": [],
   "source": [
    "merged_gdf = msoa_shp.merge(house_data, on='MSOA21CD')"
   ]
  },
  {
   "cell_type": "code",
   "execution_count": null,
   "id": "58627e2e-0759-4a5c-b814-5425232961dd",
   "metadata": {},
   "outputs": [],
   "source": [
    "merged_gdf.info()"
   ]
  },
  {
   "cell_type": "code",
   "execution_count": null,
   "id": "c72eb620-ef1b-4aa4-a7fa-a73ff9289895",
   "metadata": {},
   "outputs": [],
   "source": [
    "#This is a \"magic\", which allows figures to be rendered inside the notebook (it only needs to be run once in Notebook)\n",
    "%matplotlib inline\n",
    "\n",
    "merged_gdf.explore(column='All_households', cmap='Blues')"
   ]
  },
  {
   "cell_type": "markdown",
   "id": "5798458d-ed0e-4b26-9785-ff3131003ef9",
   "metadata": {},
   "source": [
    "As you already know, a geo data frame is structured like a regular data frame, with rows being observations and columns being attributes on those observations. The key difference is that a geo data frame has a `geometry` column that contains the spatial coordinates on each record. You can access the `geometry` like you would any column:"
   ]
  },
  {
   "cell_type": "code",
   "execution_count": null,
   "id": "2884d4e0-2648-4d66-aab1-94cb9dab1f75",
   "metadata": {},
   "outputs": [],
   "source": [
    "#Show the top rows of the geometry column\n",
    "merged_gdf.geometry.head()"
   ]
  },
  {
   "cell_type": "code",
   "execution_count": null,
   "id": "3e15a699",
   "metadata": {},
   "outputs": [],
   "source": [
    "### Run the following line only the first time running this notebook.\n",
    "\n",
    "# pip install leafmap "
   ]
  },
  {
   "cell_type": "markdown",
   "id": "e455ab53-c446-4ea6-b37e-d10bb2b7a24f",
   "metadata": {},
   "source": [
    "Leafmap is a popular new Python package for interactive mapping and geospatial analysis with minimal coding in a Jupyter environment.  Get more information in its documentation web site: https://leafmap.org/"
   ]
  },
  {
   "cell_type": "code",
   "execution_count": null,
   "id": "1c9e8487-9e49-46c6-9b11-7d16d27a394b",
   "metadata": {
    "scrolled": true
   },
   "outputs": [],
   "source": [
    "import leafmap\n",
    "\n",
    "m = leafmap.Map()\n",
    "m"
   ]
  },
  {
   "cell_type": "code",
   "execution_count": null,
   "id": "90d4da1b-2122-4178-b69a-3d4447b9b5de",
   "metadata": {},
   "outputs": [],
   "source": [
    "# You can use this handy web map to get the centre of the map, zoom level, and other great resources for web map development \n",
    "m = leafmap.Map(center=[54, -1], zoom=6)\n",
    "m.add_gdf(merged_gdf, layer_name=\"Housing\")\n",
    "m"
   ]
  },
  {
   "cell_type": "markdown",
   "id": "9e810d72-455d-4b5c-a9cb-7e66977e8e3e",
   "metadata": {},
   "source": [
    "## Creating Spatial Data\n",
    "\n",
    "Sometimes it is necessary to create a spatial object from scratch, which is most common for point data given that only a single co-ordinate is required for each feature. This can be achieved by building a `GeoDataFrame()` object and is used within this example to create a 311 point dataset. 311 data record non emergency calls within the US, and in this case are those which occurred within San Francisco between January and December 2016. The 311 data used here have been simplified from the [original](https://data.sfgov.org/City-Infrastructure/Case-Data-from-San-Francisco-311-SF311-/vw6y-z8j6/data) data to only a few variables, and those calls without spatial references have been removed."
   ]
  },
  {
   "cell_type": "code",
   "execution_count": null,
   "id": "75298641-4c33-43a1-8a2e-7f0d4fc5a6f6",
   "metadata": {},
   "outputs": [],
   "source": [
    "# Read csv into Python\n",
    "data_311 = pd.read_csv(r\"C:\\Users\\user\\Documents\\UA_Lab\\Data\\LabTwo\\311.csv\")\n",
    "# Have a look at the structure\n",
    "data_311.head()"
   ]
  },
  {
   "cell_type": "markdown",
   "id": "22755f62-2fbe-4819-a997-26668e2c05c3",
   "metadata": {},
   "source": [
    "Each spatial object in a geo data frame must be an point, line or polygon. GeoPandas uses spatial object types from the shapely package. In this example we use the `Point` type."
   ]
  },
  {
   "cell_type": "code",
   "execution_count": null,
   "id": "6e8d147a-6cff-471c-83cb-c0524fa78d71",
   "metadata": {},
   "outputs": [],
   "source": [
    "# Create a geo data frame\n",
    "from shapely.geometry import Point  # import just the Point class from the shapely package\n",
    "geom = [Point(xy) for xy in zip(data_311.Lon, data_311.Lat)] #create a list of latitude, longitude pairs\n",
    "SP_311 = gpd.GeoDataFrame(data_311, crs=merged_gdf.crs, geometry=geom)"
   ]
  },
  {
   "cell_type": "code",
   "execution_count": null,
   "id": "d77c700d-acd6-40d9-a9ef-ea03f063c218",
   "metadata": {},
   "outputs": [],
   "source": [
    "# Show the results\n",
    "SP_311.plot()"
   ]
  },
  {
   "cell_type": "markdown",
   "id": "6cb69983-ce42-47b1-a4c0-feb36cc12b2d",
   "metadata": {},
   "source": [
    "## Subsetting Data\n",
    "\n",
    "It is often necessary to subset data; either restricting a data frame to a set of columns or rows; or in the case of spatial data, creating an extract for a particular set of geographic features. Subsetting can occur in a number of different ways"
   ]
  },
  {
   "cell_type": "code",
   "execution_count": null,
   "id": "88c20128-fc8f-441b-9244-c58cb5e65e20",
   "metadata": {},
   "outputs": [],
   "source": [
    "#Get the frequencies by the categories used within the 311 data\n",
    "data_311.Category.value_counts()"
   ]
  },
  {
   "cell_type": "code",
   "execution_count": null,
   "id": "9074253c-ec02-4b70-acb7-7a680734921a",
   "metadata": {},
   "outputs": [],
   "source": [
    "# Use the loc method to extract rows from the data which relate to Sewer Issues\n",
    "sewer_issues = data_311.loc[data_311.Category==\"Sewer Issues\", :]\n",
    "\n",
    "# Use the square brackets \"[]\" to perform the same task\n",
    "sewer_issues = data_311[data_311.Category==\"Sewer Issues\"]\n",
    "sewer_issues.head()  #check out the first rows"
   ]
  },
  {
   "cell_type": "code",
   "execution_count": null,
   "id": "b6ca4b2b-4608-472c-9863-08f0a7cd0927",
   "metadata": {},
   "outputs": [],
   "source": [
    "# Extract the IDs for the \"Sewer Issues\"\n",
    "sewer_issues_IDs = data_311.loc[data_311.Category==\"Sewer Issues\", \"CaseID\"]\n",
    "sewer_issues_IDs.head()  #check out the first elements"
   ]
  },
  {
   "cell_type": "markdown",
   "id": "1934773d-9937-4613-be37-136b1424d4c9",
   "metadata": {},
   "source": [
    "Subsetting can also be useful for spatial data. In the example below we can list all the regions in England, and using simple queries we can remove, overwrite, and plot only certain rows inside our initial spatial data frame. For example consider you need to remove an area from your original dataset, and you you the code or value to use for the querie, so you can use something like:"
   ]
  },
  {
   "cell_type": "code",
   "execution_count": null,
   "id": "fc8b189c-0f02-436e-9e6f-3cb9abbecdca",
   "metadata": {},
   "outputs": [],
   "source": [
    "regions_england = gpd.read_file(r\"C:\\Users\\user\\Documents\\UA_Lab\\Data\\LabTwo\\Regions_(December_2021)\\RGN_DEC_2021_EN_BGC.shp\")"
   ]
  },
  {
   "cell_type": "code",
   "execution_count": null,
   "id": "a1b8ee0e-c04a-440d-bbb6-be3434309e9f",
   "metadata": {},
   "outputs": [],
   "source": [
    "regions_england.explore('RGN21NM')"
   ]
  },
  {
   "cell_type": "code",
   "execution_count": null,
   "id": "3ca14b05-6e6c-4f78-a002-d60efa6ef6d5",
   "metadata": {},
   "outputs": [],
   "source": [
    "regions_name = regions_england['RGN21NM'].value_counts()\n",
    "regions_name"
   ]
  },
  {
   "cell_type": "code",
   "execution_count": null,
   "id": "09608f8b-086f-4668-8014-0dd11d1e55d5",
   "metadata": {},
   "outputs": [],
   "source": [
    "regions_england[regions_england.RGN21NM != \"South East\"].plot() # Removes South East from the plot"
   ]
  },
  {
   "cell_type": "code",
   "execution_count": null,
   "id": "b7174dde-fd9a-409e-b8c5-4bebaa63f862",
   "metadata": {},
   "outputs": [],
   "source": [
    "regions_england[regions_england.RGN21NM == \"North East\"].plot() # Only plots North East"
   ]
  },
  {
   "cell_type": "code",
   "execution_count": null,
   "id": "0d6b73a4-6e3c-4774-bf7e-3ec7c3253acd",
   "metadata": {},
   "outputs": [],
   "source": [
    "regions_england = regions_england[regions_england.RGN21NM != \"London\"] # Overwrites the regions_england object\n",
    "regions_england.plot()"
   ]
  },
  {
   "cell_type": "markdown",
   "id": "68e9b71e-ebaf-4985-a72a-f193fc043676",
   "metadata": {},
   "source": [
    "## Clipping Spatial Data\n",
    "\n",
    "Clipping is a process of subsetting using overlapping spatial data. The following code uses the outline of the coast of the U.S. to clip the boundaries of the Census Track Shapefile, another geodata frame object. Note: it is a little slow.\n",
    "\n",
    "The Census Tracts Shapefile was downloaded from the [SF OpenData](https://data.sfgov.org/Geographic-Locations-and-Boundaries/Census-2010-Tracts-for-San-Francisco/rarb-5ahf/data).\n",
    "\n",
    "> Note: You will find an error; you should be able to fix it at this level."
   ]
  },
  {
   "cell_type": "code",
   "execution_count": null,
   "id": "26452b8a-0743-4e4b-b554-5da371f9da65",
   "metadata": {},
   "outputs": [],
   "source": [
    "#Read in coastal outline (Source from - https://www.census.gov/geo/maps-data/data/cbf/cbf_counties.html)\n",
    "coast = gpd.read_file(r\"C:\\Users\\user\\Documents\\UA_Lab\\Data\\LabTwo\\Census_Tracts_USA/cb_2015_us_county_500k.shp\")\n",
    "SF = gpd.read_file(r\"C:\\Users\\user\\Documents\\UA_Lab\\Data\\LabTwo\\Census_Tracts_USA/tl_2010_06075_tract10.shp\")\n",
    "\n",
    "coast_single = coast.unary_union  #merges the US counties into a single object\n",
    "SF_clipped_geoms = SF.intersection(coast_single) # Clip the SF spatial data frame object to the coastline - just returns geometries\n",
    "SF_clipped = SF.copy() #make a copy of the SF dataframe\n",
    "SF_clipped['geometry'] = SF_clipped_geoms #replace the old geometries with the clipped geometries\n",
    "SF_clipped = SF_clipped[SF_clipped.intersects(SF_clipped_geoms.unary_union)] #subset to just the observations in the clipped area\n",
    "\n",
    "#Plot the results\n",
    "SF_clipped.plot()"
   ]
  },
  {
   "cell_type": "code",
   "execution_count": null,
   "id": "0fbcdc2c-1611-485d-93d2-37639c6ea8b8",
   "metadata": {},
   "outputs": [],
   "source": [
    "SF_single = SF_clipped.unary_union  #merges SF tracts into a single object\n",
    "SP_311_PIP = SP_311[SP_311.intersects(SF_single)] # Select the 331 points data that intersect with San Francisco\n",
    "SP_311_PIP.plot()"
   ]
  },
  {
   "cell_type": "code",
   "execution_count": null,
   "id": "48ac5167-1e53-48b7-8824-c3641c80c74f",
   "metadata": {},
   "outputs": [],
   "source": [
    "SP_311_PIP.head()"
   ]
  },
  {
   "cell_type": "markdown",
   "id": "3f5418b3-dfc2-442c-9659-e1771c8694c5",
   "metadata": {},
   "source": [
    "## Merging Tabular Data\n",
    "\n",
    "So far you have utilized a single data frame or spatial object; however, it is often the case that in order to generate information, data from multiple sources are required. Where data share a common \"key\", these can be used to combine / link tables together. This might for example be an identifier for a zone; and is one of the reasons why most statistical agencies adopt a standard set of geographic codes to identify areas.\n",
    "\n",
    "In the earlier imported data \"earnings\" this included a UID column which relates to a Tract ID. We can now import an additional data table called bachelors - this also includes the same ID."
   ]
  },
  {
   "cell_type": "code",
   "execution_count": null,
   "id": "9af25d53-69f2-4a21-af14-81a743e8ec6a",
   "metadata": {},
   "outputs": [],
   "source": [
    "#Read CSV file - creates a data frame called earnings\n",
    "bachelors = pd.read_csv(r\"C:\\Users\\user\\Documents\\UA_Lab\\Data\\LabTwo\\ACS_14_5YR_S1501_with_ann.csv\")\n",
    "bachelors.head()\n",
    "\n",
    "#UID - Tract ID\n",
    "#Bachelor_Higher - Bachelor degree or higher %\n",
    "#Bachelor_Higher_m - Bachelor degree or higher % (margin of error)"
   ]
  },
  {
   "cell_type": "markdown",
   "id": "abc3ef21-7188-4bc8-83cf-0735af35088b",
   "metadata": {},
   "source": [
    "Using the matching ID columns on both datasets we can link them together to create a new object with the `merge()` function in pandas:"
   ]
  },
  {
   "cell_type": "code",
   "execution_count": null,
   "id": "51f206d6-8690-45a5-94c0-8567ee211bc7",
   "metadata": {},
   "outputs": [],
   "source": [
    "#Perform the merge\n",
    "SF_Tract_ACS = pd.merge(earnings, bachelors, left_on=\"UID\", right_on=\"UID\")\n",
    "SF_Tract_ACS = pd.merge(earnings, bachelors, on=\"UID\") # An alternative method to the above, but a shortened version as the ID columns are the same on both data frames\n",
    "#there are many more options - for more details type help(pd.merge)\n",
    "\n",
    "#The combined data frame now looks like\n",
    "SF_Tract_ACS.head() # shows the top of the data frame"
   ]
  },
  {
   "cell_type": "markdown",
   "id": "a0bb0b18-8c3c-4b92-b8bc-a00b6090d383",
   "metadata": {},
   "source": [
    "## Removing and Creating Attributes\n",
    "\n",
    "It is sometimes necessary to remove variables from a tabular object or to create new values. In the following example we will remove some unwanted columns in the SF_clipped object, leaving just the zone id for each polygon."
   ]
  },
  {
   "cell_type": "code",
   "execution_count": null,
   "id": "6d28a1ed-7302-4f0b-892b-d0764e5faee9",
   "metadata": {},
   "outputs": [],
   "source": [
    "#Remind yourself what the data look like...\n",
    "SF_clipped.head()"
   ]
  },
  {
   "cell_type": "code",
   "execution_count": null,
   "id": "1083201c-f43c-47f9-a2b7-f6a943fd6724",
   "metadata": {},
   "outputs": [],
   "source": [
    "SF_clipped = SF_clipped[[\"GEOID10\", \"geometry\"]] #Makes a new version of the geo data frame with just the values of the GEOID10 and geometry columns\n",
    "\n",
    "#The data frame within the data slot now looks as follows\n",
    "SF_clipped.head()"
   ]
  },
  {
   "cell_type": "markdown",
   "id": "c660e729-e32c-41ca-886b-a6fab445f362",
   "metadata": {},
   "source": [
    "These tract ID are supposed to match with those in the \"SF_Tract_ACS\" object, however, if you are very observant you will notice that there is one issue; the above have a leading zero."
   ]
  },
  {
   "cell_type": "code",
   "execution_count": null,
   "id": "a0e55f9c-120e-4da5-9add-e39ef144da43",
   "metadata": {},
   "outputs": [],
   "source": [
    "SF_Tract_ACS.head() # show the top of the SF_Tract_ACS object"
   ]
  },
  {
   "cell_type": "markdown",
   "id": "6ece9341-7e9d-4782-8377-9bc6059a62b3",
   "metadata": {},
   "source": [
    "As such, in this instance we will create a new column on the SF_Tract_ACS data frame with a new ID that will match the SF GEOID10 column. We can achieve this using the square brackets (`[]`) notation and will call this new variable \"GEOID10\"."
   ]
  },
  {
   "cell_type": "code",
   "execution_count": null,
   "id": "a06a7e76-d6f6-448b-9a49-15ebd106484a",
   "metadata": {},
   "outputs": [],
   "source": [
    "# Creates a new variable with a leading zero\n",
    "SF_Tract_ACS['GEOID10'] = \"0\" + SF_Tract_ACS.UID.astype(str) #need to convert the UID column to strings before prepending the zero\n",
    "SF_Tract_ACS.head()"
   ]
  },
  {
   "cell_type": "markdown",
   "id": "0c3c0424-7414-4875-a6d5-20b4a87851d5",
   "metadata": {},
   "source": [
    "If you remember from earlier in this practical, the earnings data had some values that were stored as \"objects\" rather than floats or integers, and the same is true for both the bachelors data; and now the combined `SF_Tract_ACS` object. We can check this again as follows:"
   ]
  },
  {
   "cell_type": "code",
   "execution_count": null,
   "id": "19b4fbca-e833-4644-81c4-d29a22751397",
   "metadata": {},
   "outputs": [],
   "source": [
    "SF_Tract_ACS.info()"
   ]
  },
  {
   "cell_type": "markdown",
   "id": "dd2821d9-25c1-4946-a679-68099238911d",
   "metadata": {},
   "source": [
    "We can also remove the UID column. A quick way of doing this for a single variable is to use the `drop()` method:"
   ]
  },
  {
   "cell_type": "code",
   "execution_count": null,
   "id": "5d1289c4-6be5-4ceb-9e75-d0dab4930a09",
   "metadata": {},
   "outputs": [],
   "source": [
    "SF_Tract_ACS = SF_Tract_ACS.drop('UID', axis=1)  #axis=1 indicates to drop a column (axis=0 is for rows)"
   ]
  },
  {
   "cell_type": "markdown",
   "id": "36e89b38-7e2d-4785-86eb-fdc44712622c",
   "metadata": {},
   "source": [
    "We will now convert the object variables to numbers. The first stage will be to remove the \"-\" and \"**\" characters from the variables with the `replace` function, replacing these with NA values."
   ]
  },
  {
   "cell_type": "code",
   "execution_count": null,
   "id": "d29b883a-3f19-47d6-aee7-960fa53cade3",
   "metadata": {},
   "outputs": [],
   "source": [
    "#Replace the \"-\" and \"*\" characters\n",
    "import numpy as np\n",
    "SF_Tract_ACS.loc[SF_Tract_ACS.earnings=='-', 'earnings'] = np.nan #replace the \"-\" values with NA\n",
    "SF_Tract_ACS.loc[SF_Tract_ACS.earnings_m=='**', 'earnings_m'] = np.nan #replace the \"**\" values with NA\n",
    "SF_Tract_ACS.loc[SF_Tract_ACS.Bachelor_Higher=='-', 'Bachelor_Higher'] = np.nan #replace the \"-\" values with NA\n",
    "SF_Tract_ACS.loc[SF_Tract_ACS.Bachelor_Higher_m=='**', 'Bachelor_Higher_m'] = np.nan #replace the \"-\" values with NA"
   ]
  },
  {
   "cell_type": "markdown",
   "id": "14941ed5-150b-45d3-9732-b7aab9bf18a6",
   "metadata": {},
   "source": [
    "We will now convert these to numeric values:"
   ]
  },
  {
   "cell_type": "code",
   "execution_count": null,
   "id": "21e74523-4a38-4960-8227-640d2d41f676",
   "metadata": {},
   "outputs": [],
   "source": [
    "SF_Tract_ACS.earnings = SF_Tract_ACS.earnings.astype(float)\n",
    "SF_Tract_ACS.earnings_m = SF_Tract_ACS.earnings_m.astype(float)\n",
    "SF_Tract_ACS.Bachelor_Higher = SF_Tract_ACS.Bachelor_Higher.astype(float)\n",
    "SF_Tract_ACS.Bachelor_Higher_m = SF_Tract_ACS.Bachelor_Higher_m.astype(float)"
   ]
  },
  {
   "cell_type": "code",
   "execution_count": null,
   "id": "875ec3e8-7480-4347-9ce6-ecbb5f175746",
   "metadata": {},
   "outputs": [],
   "source": [
    "SF_Tract_ACS.info()"
   ]
  },
  {
   "cell_type": "markdown",
   "id": "e555ec6a-c934-4826-a78f-2a9c36797e2e",
   "metadata": {},
   "source": [
    "Now all the variables other than the \"GEOID10\" are stored as integers or floats:"
   ]
  },
  {
   "cell_type": "markdown",
   "id": "e24e84db-bb8e-4cbf-9d0c-681dd9155c72",
   "metadata": {},
   "source": [
    "## Merging Spatial Data\n",
    "\n",
    "It is also possible to join tabular data onto a spatial object (e.g. a geo data frame) in the same way as with regular data frames. In this example, we will join the newly created `SF_Tract_ACS` data onto the `SF_clipped` data frame."
   ]
  },
  {
   "cell_type": "code",
   "execution_count": null,
   "id": "7bf8b945-2a03-418d-905f-8e90be5c7a06",
   "metadata": {},
   "outputs": [],
   "source": [
    "SF_clipped = pd.merge(SF_clipped, SF_Tract_ACS, on=\"GEOID10\") # merge\n",
    "SF_clipped.head() #show the attribute data"
   ]
  },
  {
   "cell_type": "markdown",
   "id": "b6f0328a-ec51-406e-a237-cfd72f683688",
   "metadata": {},
   "source": [
    "## Spatial Joins\n",
    "\n",
    "Earlier in this practical we created a geo data frame which we later cropped using the `intersects()` method to create the `SP_311_PIP` object. As a reminder of what this looks like it is plotted below:"
   ]
  },
  {
   "cell_type": "code",
   "execution_count": null,
   "id": "4e638199-ba26-4b14-a269-627ff6435659",
   "metadata": {},
   "outputs": [],
   "source": [
    "SP_311_PIP.explore(tiles=\"CartoDB positron\")"
   ]
  },
  {
   "cell_type": "markdown",
   "id": "0d362834-e53b-4614-9efa-f6fb04140c8c",
   "metadata": {},
   "source": [
    "We will now clean up the associated data frame by removing all of the attributes apart from the category and geometry."
   ]
  },
  {
   "cell_type": "code",
   "execution_count": null,
   "id": "1cb5e1d0-b116-4412-9329-591f202cb686",
   "metadata": {},
   "outputs": [],
   "source": [
    "SP_311_PIP = SP_311_PIP[[\"Category\", \"geometry\"]] #subset data\n",
    "SP_311_PIP.head()"
   ]
  },
  {
   "cell_type": "markdown",
   "id": "05f5af97-147e-46f0-8b00-ca344c00b208",
   "metadata": {},
   "source": [
    "The `intersects()` method was used to clip a dataset to an extent earlier, essentially a [point in polygon](https://en.wikipedia.org/wiki/Point_in_polygon) function. In contrast, the spatial join (`sjoin()`) function performs the point in polygon action and has a really useful feature that it also appends the attributes of the polygon to the point. For example, we might be interested in finding out which census tracts each of the 311 calls resides within. As such, we will implement another point in polygon analysis to create a new object `SF_clipped_311`:"
   ]
  },
  {
   "cell_type": "code",
   "execution_count": null,
   "id": "e9508e9d-f458-4843-944e-0d74ad753126",
   "metadata": {},
   "outputs": [],
   "source": [
    "SF_clipped_311 = gpd.sjoin(SP_311_PIP, SF, how='inner') # point in polygon\n",
    "#Cleanup the attributes\n",
    "SF_clipped_311 = SF_clipped_311[[\"GEOID10\",\"Category\",\"geometry\"]]\n",
    "#Show the top rows of the data\n",
    "SF_clipped_311.head()"
   ]
  },
  {
   "cell_type": "markdown",
   "id": "1ee4b749-32ba-4e06-9fb1-d64bbe7885cb",
   "metadata": {},
   "source": [
    "## Writing and saving your processed data\n",
    "\n",
    "In order to share data it is often useful to write data frames or spatial objects back out of Python as external files. This is very simple, and Python supports multiple formats. In these examples, a CSV file and a Shapefile are both created."
   ]
  },
  {
   "cell_type": "code",
   "execution_count": null,
   "id": "e2fd09de-6884-46fd-bf2d-fa9368d0d3dc",
   "metadata": {},
   "outputs": [],
   "source": [
    "#In this example, we write out a CSV file with the geo data frame SF_clipped_311\n",
    "SF_clipped_311.to_csv(r\"C:\\Users\\user\\Documents\\UA_Lab\\Data\\LabTwo\\311_Tract_Coded.csv\")"
   ]
  },
  {
   "cell_type": "markdown",
   "id": "bded510f-f77c-4683-b93e-9054387e8c3a",
   "metadata": {},
   "source": [
    "This has created a CSV file \"311_Tract_Coded.csv\" in your working directory; we will use this in the next practical class - \"Basic SQL\".\n",
    "\n",
    "It is also possible to write out a Shapefile"
   ]
  },
  {
   "cell_type": "code",
   "execution_count": null,
   "id": "340a4d22-6672-401a-924a-ff3e823c98ad",
   "metadata": {},
   "outputs": [],
   "source": [
    "#This will write out a Shapefile for San Francisco - note, as the column names are a little longer than are allowed within a Shapefile and as such are automatically shortened.\n",
    "SF_clipped.to_file(r\"C:\\Users\\user\\Documents\\UA_Lab\\Data\\LabTwo\\SF_clipped.shp\") #the default is Shapefile, but other spatial formats are supported"
   ]
  },
  {
   "cell_type": "markdown",
   "id": "28089b42-8c25-4c12-a167-3e42331784c6",
   "metadata": {},
   "source": [
    "# Working with Web Services\n",
    "\n",
    "Nowadays, you have access to spatial and numerical data from multiple data sources; many great spatial data sources will include another type of access that isn't often very popular among the spatial data scientist communities, as we tend to use downloaded data to make any analysis. We consider that only through downloaded data will we be able to work more efficiently. Somehow, those caveats are true. However, we also need to consider the rapid improvement in computational capabilities, the use of the Web and Cloud GIS services, and take advantage of the faster internet connections we can access nowadays. As you probably already know, spatial data come in multiple formats, whether the type of data we need to store or the natural phenomena we try to represent; numerous types of spatial web services serve various purposes. \n",
    "\n",
    "To get to that point, if we work with a window-interface tool like QGIS or ArcGIS, the connection to the spatial data is usually established on local directories; depending on the type of project, you might need to work using a direct connection to a particular spatial database. However, in this example, I will show you how to use web services, in particular spatial web services, to get some numerical and spatial data, load that into your computer memory, process the information and then get the outcomes you can later include as an outcome of any spatial analysis.\n",
    "\n",
    "Generally, you can think of a web service as a piece of software designed to allow the interaction and communication between different applications over the internet. That is the keystone! You know that the transmission of your data goes through the internet, which means that a web service enables the exchange of data and, in many cases, also functionality between multiple systems, allowing them to work together seamlessly. \n",
    "\n",
    "Web services use standard web protocols, such as HTTP, and often communicate using formats like XML or JSON. They enable interoperability, scalability, and integration in distributed computing environments.\n",
    "\n",
    "## Web Services in Urban Analytics:\n",
    "\n",
    "In urban analytics, web services facilitate the seamless exchange and analysis of geospatial data, which is vital for understanding and managing urban environments. Spatial Web services provide a platform for sharing geographic information, conducting spatial studies, and delivering real-time data to support urban planning, transportation management, environmental monitoring, and more decision-making processes.\n",
    "\n",
    "## Common Spatial Web Services:\n",
    "\n",
    "Having spatial web services standards is extremely important., the standards are the glue to geospatial information interoperability, and are used by thousands of organizations across the globe and represented in millions of lines of code. They are backed by international organizations, used in proposals, and implemented to speed up the process of innovation. If you want to explore all the geospatial standards, take a look at the OGC web https://www.ogc.org/standards/ IN the following section I will describe the most common spatial web services you might find when you work with spatial data. \n",
    "\n",
    "### Web Map Services (WMS):\n",
    "\n",
    "A WMS services is a standard protocol for serving georeferenced **map images** over the web. It allows clients to request maps from a server, which then generates and returns the map images.\n",
    "\n",
    "### Web Feature Services (WFS):\n",
    "\n",
    "A WFS service is a standard for serving and exchanging **vector** data over the web. It enables clients to request and retrieve features (geospatial entities) from a server, supporting more complex data interactions compared to WMS, including the editing and symbology capabilities.\n",
    "\n",
    "### GeoJSON/JSON Web Services:\n",
    "\n",
    "These web services use the JSON format to transmit geospatial data. They are often employed for simple and lightweight data exchange, suitable for web applications and APIs. These web services are popular for transmitting spatial data between clients and servers due to their simplicity and human-readability.\n",
    "\n",
    "### RESTful APIs (Representational State Transfer):\n",
    "\n",
    "RESTful APIs follow the principles of REST architecture, providing a set of rules for building web services. They use standard **HTTP methods (GET, POST, PUT, DELETE)** for data manipulation and are often implemented in the form of web APIs. APIs are versatile and widely adopted in numerous geospatial applications and are widely implemented allowing developers to access, manipulate, and retrieve geographic data programmatically.\n",
    "\n",
    "### APIs\n",
    "\n",
    "Application Programming Interface (APIs) represent a 'gate' or otherwise a platform that enables a client (that is you) to interact with a server (for example [Glasgow Open Data](https://developer.glasgow.gov.uk/),  [opendata.bristol.gov.uk](https://opendata.bristol.gov.uk/)). \n",
    "\n",
    "According to @amazonWhatAPI:\n",
    "> In the context of APIs, the word Application refers to any software with a distinct function. Interface can be thought of as a contract of service between two applications. This contract defines how the two communicate with each other using requests and responses. Their API documentation contains information on how developers are to structure those requests and responses.\n",
    "\n",
    "The client's software (this might be R pr Python for example) sends a request to the server requesting specific data. The response is the data the client asked.\n",
    "\n",
    "More commonly, the client might be a mobile phone app (e.g. train network status app) and the server is the network operator's server.\n",
    "\n",
    "APIs can be private or public types. For more in the description from @amazonWhatAPI [here](https://aws.amazon.com/what-is/api/#:~:text=API%20stands%20for%20Application%20Programming,other%20using%20requests%20and%20responses.)"
   ]
  }
 ],
 "metadata": {
  "kernelspec": {
   "display_name": "Python 3 (ipykernel)",
   "language": "python",
   "name": "python3"
  },
  "language_info": {
   "codemirror_mode": {
    "name": "ipython",
    "version": 3
   },
   "file_extension": ".py",
   "mimetype": "text/x-python",
   "name": "python",
   "nbconvert_exporter": "python",
   "pygments_lexer": "ipython3",
   "version": "3.12.8"
  }
 },
 "nbformat": 4,
 "nbformat_minor": 5
}
