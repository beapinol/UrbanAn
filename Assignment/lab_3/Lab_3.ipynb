{
 "cells": [
  {
   "cell_type": "markdown",
   "id": "d71dab82-8300-4c6b-b1ec-4504ef96d45d",
   "metadata": {},
   "source": [
    "# Lab No 3: Geovisualization Techniques - Data Viz.\n",
    "\n",
    "## 4 Challenges"
   ]
  },
  {
   "cell_type": "markdown",
   "id": "5d36d5b4-b1ed-4b57-bc3b-e258d30f3ff9",
   "metadata": {},
   "source": [
    "# Challenge No 1"
   ]
  },
  {
   "cell_type": "code",
   "execution_count": null,
   "id": "347af4d8-c849-4226-a6e4-084326894b9e",
   "metadata": {},
   "outputs": [],
   "source": [
    "# Here is the code for challenge 1, Lab 3"
   ]
  },
  {
   "cell_type": "code",
   "execution_count": null,
   "id": "dd64c27b-e034-4ef8-b0d4-a71be8080a61",
   "metadata": {},
   "outputs": [],
   "source": [
    "import numpy as np\n",
    "import pandas as pd\n",
    "\n",
    "numericals = subset_listings.select_dtypes('number')\n",
    "avg = numericals.mean()\n",
    "count = numericals.count()\n",
    "table = pd.DataFrame({\n",
    "    'Numericals': numericals.columns,\n",
    "    'Average': avg.values, \n",
    "    'Counts': count.values\n",
    "})\n",
    "print(table)\n",
    "\n",
    "#reference: Pydata.org. (2024). pandas.DataFrame.select_dtypes — pandas 2.2.3 documentation. [online] Available at: https://pandas.pydata.org/pandas-docs/stable/reference/api/pandas.DataFrame.select_dtypes.html#pandas.DataFrame.select_dtypes [Accessed 27 Feb. 2025]."
   ]
  },
  {
   "cell_type": "markdown",
   "id": "be9e5909-dfc1-47b1-90eb-ab0e605dd05c",
   "metadata": {},
   "source": [
    "# Challenge No 2"
   ]
  },
  {
   "cell_type": "code",
   "execution_count": null,
   "id": "4e5b67d1-583d-49ae-a4ba-70073db53883",
   "metadata": {},
   "outputs": [],
   "source": [
    "# Here is the code for challenge 2, Lab 3"
   ]
  },
  {
   "cell_type": "code",
   "execution_count": null,
   "id": "f6e04a8d-0633-4179-9274-23670344ce47",
   "metadata": {},
   "outputs": [],
   "source": [
    "#chosen problem: parking in Edinburgh city centre"
   ]
  },
  {
   "cell_type": "code",
   "execution_count": null,
   "id": "8c3fad6c-0968-44e9-85a7-1cf27c8176df",
   "metadata": {},
   "outputs": [],
   "source": [
    "import requests\n",
    "import numpy as np\n",
    "import pandas as pd\n",
    "import geopandas as gpd\n",
    "\n",
    "#here I had to use the traditional method as opposed to using the API method as it was unavailable for the urban environment problem I wanted to explore\n",
    "parking_bays = gpd.read_file(r\"C:\\Users\\user\\Documents\\UA_Lab\\Data\\LabThree\\Parking_Bays\\Parking_Bays.shp\")\n",
    "print(parking_bays)"
   ]
  },
  {
   "cell_type": "code",
   "execution_count": null,
   "id": "c0a8414a-4b84-4bc0-9bdf-8851a33bf6c0",
   "metadata": {},
   "outputs": [],
   "source": [
    "parking_bays.head()"
   ]
  },
  {
   "cell_type": "code",
   "execution_count": null,
   "id": "8c76f282-abe2-4d17-9d0f-72f59d0c3069",
   "metadata": {},
   "outputs": [],
   "source": [
    "parking_bays.shape"
   ]
  },
  {
   "cell_type": "code",
   "execution_count": null,
   "id": "80b0d9de-4982-4fd1-bbff-e56420e02c07",
   "metadata": {},
   "outputs": [],
   "source": [
    "parking_bays.plot()"
   ]
  },
  {
   "cell_type": "code",
   "execution_count": null,
   "id": "cfbb9a49-fcfa-4da7-803b-34bc077cb5d6",
   "metadata": {},
   "outputs": [],
   "source": [
    "parking_bays_cleaned = parking_bays.dropna()"
   ]
  },
  {
   "cell_type": "code",
   "execution_count": null,
   "id": "77ae1d10-0cb1-4748-9efd-6c48b8f207a7",
   "metadata": {},
   "outputs": [],
   "source": [
    "parking_bays_cleaned.shape"
   ]
  },
  {
   "cell_type": "code",
   "execution_count": null,
   "id": "6f3267c6-0feb-4d08-be31-efd3d2c138af",
   "metadata": {},
   "outputs": [],
   "source": [
    "#calculating mean, median and mode using geopandas\n",
    "parking_bays_cleaned.groupby("
   ]
  },
  {
   "cell_type": "markdown",
   "id": "b7f69568-18bf-4206-9834-8c178af2d043",
   "metadata": {},
   "source": [
    "# Challenge No 3"
   ]
  },
  {
   "cell_type": "code",
   "execution_count": null,
   "id": "78670db0-57c8-40a6-96eb-1565700a6ca1",
   "metadata": {},
   "outputs": [],
   "source": [
    "# Here is the code for challenge 3, Lab 3"
   ]
  },
  {
   "cell_type": "code",
   "execution_count": null,
   "id": "dc1cc6c4-21ae-4e5b-af08-986067d9af00",
   "metadata": {},
   "outputs": [],
   "source": [
    "import requests\n",
    "import pandas as pd\n",
    "import geopandas as gpd\n",
    "\n",
    "url_motor = \"https://data.cityofnewyork.us/resource/h9gi-nx95.json\"\n",
    "response = requests.get(url_motor)\n",
    "response"
   ]
  },
  {
   "cell_type": "code",
   "execution_count": null,
   "id": "8fcc667b-a981-4a74-b879-cc7f7bb35eca",
   "metadata": {},
   "outputs": [],
   "source": [
    "data = response.json()\n",
    "data"
   ]
  },
  {
   "cell_type": "code",
   "execution_count": null,
   "id": "0b692a87-ac42-4b7a-aa95-e50e94cb930d",
   "metadata": {},
   "outputs": [],
   "source": [
    "motor_pd = pd.DataFrame(data)\n",
    "motor_pd.head(5)"
   ]
  },
  {
   "cell_type": "code",
   "execution_count": null,
   "id": "6883749f-86da-4d2c-b4ba-cc7427527513",
   "metadata": {},
   "outputs": [],
   "source": [
    "motor_pd.shape"
   ]
  },
  {
   "cell_type": "code",
   "execution_count": null,
   "id": "f28c7351-a51c-4986-9497-8360d63eecb9",
   "metadata": {},
   "outputs": [],
   "source": [
    "motor_pd_geo = gpd.GeoDataFrame(motor_pd, geometry=gpd.points_from_xy(motor_pd['latitude'], motor_pd['longitude']))"
   ]
  },
  {
   "cell_type": "code",
   "execution_count": null,
   "id": "b0ed9cb3-3b5e-44f8-8080-91884d7e445a",
   "metadata": {},
   "outputs": [],
   "source": [
    "motor_pd_geo.crs"
   ]
  },
  {
   "cell_type": "code",
   "execution_count": null,
   "id": "4139f19f-d210-4afb-9401-bd71d0a9bb03",
   "metadata": {},
   "outputs": [],
   "source": [
    "motor_pd_geo = motor_pd_geo.set_crs(\"EPSG:4326\")"
   ]
  },
  {
   "cell_type": "code",
   "execution_count": null,
   "id": "3e164686-499f-4991-a557-9bdb405884bc",
   "metadata": {},
   "outputs": [],
   "source": [
    "motor_pd_geo.explore()"
   ]
  },
  {
   "cell_type": "code",
   "execution_count": null,
   "id": "af9d1df2-ea41-44c3-94e2-7b14899067cb",
   "metadata": {},
   "outputs": [],
   "source": [
    "motor_pd.columns"
   ]
  },
  {
   "cell_type": "code",
   "execution_count": null,
   "id": "a9b8d624-5a72-4357-96e7-5b09cbc89f25",
   "metadata": {},
   "outputs": [],
   "source": [
    "number_of_persons_killed = motor_pd['number_of_pedestrians_killed']\n",
    "number_of_persons_killed.head()"
   ]
  },
  {
   "cell_type": "code",
   "execution_count": null,
   "id": "88b6d1da-ce5a-410e-97c1-86dd5e39c4fc",
   "metadata": {},
   "outputs": [],
   "source": [
    "number_of_persons_killed.info()"
   ]
  },
  {
   "cell_type": "code",
   "execution_count": null,
   "id": "1391f39e-e845-4724-9a34-7838198b7511",
   "metadata": {},
   "outputs": [],
   "source": [
    "number_of_cyclist_killed = motor_pd['number_of_cyclist_killed']\n",
    "number_of_cyclist_killed.head()"
   ]
  },
  {
   "cell_type": "code",
   "execution_count": null,
   "id": "d7289c3d-7d5c-4fd0-bec5-6f160ba6a9bf",
   "metadata": {},
   "outputs": [],
   "source": [
    "number_of_cyclist_killed.info()"
   ]
  },
  {
   "cell_type": "code",
   "execution_count": null,
   "id": "0a7eb8fe-9c48-4dc5-8468-452b84075707",
   "metadata": {},
   "outputs": [],
   "source": [
    "keep_cols = [\n",
    "    \"number_of_persons_killed\",\n",
    "    \"number_of_cyclist_killed\",\n",
    "]\n",
    "motor_pd_filtered = motor_pd[keep_cols]\n",
    "motor_pd_filtered.head()"
   ]
  },
  {
   "cell_type": "code",
   "execution_count": null,
   "id": "928329c9-03d6-49d4-b10b-9e9d0bbdd0f6",
   "metadata": {},
   "outputs": [],
   "source": [
    "motor_pd_filtered.info()"
   ]
  },
  {
   "cell_type": "code",
   "execution_count": null,
   "id": "fb829d32-1865-47ab-8e39-8e67423ff1bd",
   "metadata": {},
   "outputs": [],
   "source": [
    "motor_pd['nummber_of_persons_killed'] = motor_pd['number_of_persons_killed'].astype(int)\n",
    "motor_pd['nummber_of_cyclist_killed'] = motor_pd['number_of_cyclist_killed'].astype(int)\n",
    "\n",
    "if 'crash_date' in motor_pd.columns:\n",
    "    motor_pd['crash_date'] = pd.to_datetime(motor_pd['crash_date'])\n",
    "\n",
    "motor_pd_geo = gpd.GeoDataFrame(\n",
    "    motor_pd, \n",
    "    geometry=gpd.points_from_xy(motor_pd['longitude'], motor_pd['latitude'])\n",
    ")\n",
    "\n",
    "motor_pd_geo = motor_pd_geo.set_crs(\"EPSG:4326\")\n",
    "\n",
    "keep_cols = [\"number_of_persons_killed\", \"number_of_cyclist_killed\", \"geometry\"]\n",
    "motor_pd_filtered = motor_pd_geo[keep_cols]\n",
    "\n",
    "motor_pd_filtered.explore()\n"
   ]
  },
  {
   "cell_type": "code",
   "execution_count": null,
   "id": "53ef9883-61a6-4ec7-90f8-7fb885e33140",
   "metadata": {},
   "outputs": [],
   "source": [
    "motor_pd.describe()"
   ]
  },
  {
   "cell_type": "code",
   "execution_count": null,
   "id": "da69b23a-0daf-489f-8d17-38f591f2c0ff",
   "metadata": {},
   "outputs": [],
   "source": [
    "#calculating the mean, standard deviation for two attributes:\n",
    "#I chose number of persons injured and number of cyclists injured to see how they compared to our previous analysis of number of persons killed and number of cyclists killed\n",
    "mean_injuries = motor_pd[\"number_of_persons_injured\"].mean()\n",
    "std_injuries = motor_pd[\"number_of_persons_injured\"].std()\n",
    "mean_injuries_cyclist = motor_pd[\"number_of_cyclist_injured\"].mean()\n",
    "std_injuries_cyclist = motor_pd[\"number_of_cyclist_injured\"].std()"
   ]
  },
  {
   "cell_type": "markdown",
   "id": "bbeda65d-2eec-462e-a1c9-50f577f97fdd",
   "metadata": {},
   "source": [
    "# Challenge No 4"
   ]
  },
  {
   "cell_type": "code",
   "execution_count": null,
   "id": "f785745e-efbf-4492-849c-d4e38a72508b",
   "metadata": {},
   "outputs": [],
   "source": [
    "# Here is the code for challenge 4, Lab 3"
   ]
  },
  {
   "cell_type": "markdown",
   "id": "ca9a61c1-5bed-4b0f-931e-7b8aaa1b3a2a",
   "metadata": {},
   "source": [
    "1. I have found datashader to be more of "
   ]
  }
 ],
 "metadata": {
  "kernelspec": {
   "display_name": "Python 3 (ipykernel)",
   "language": "python",
   "name": "python3"
  },
  "language_info": {
   "codemirror_mode": {
    "name": "ipython",
    "version": 3
   },
   "file_extension": ".py",
   "mimetype": "text/x-python",
   "name": "python",
   "nbconvert_exporter": "python",
   "pygments_lexer": "ipython3",
   "version": "3.12.8"
  }
 },
 "nbformat": 4,
 "nbformat_minor": 5
}
