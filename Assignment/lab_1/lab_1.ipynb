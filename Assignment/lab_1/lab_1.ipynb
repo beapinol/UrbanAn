{
 "cells": [
  {
   "cell_type": "markdown",
   "id": "32aef215-abd1-42e9-b851-d44ba7a4fde0",
   "metadata": {},
   "source": [
    "# Lab No 1 - Python Recap: 9 Challenges"
   ]
  },
  {
   "cell_type": "markdown",
   "id": "848b6050-b4cc-46f8-8258-e6028b933bd2",
   "metadata": {},
   "source": [
    "# Challenge No 1"
   ]
  },
  {
   "cell_type": "code",
   "execution_count": null,
   "id": "bb2bd63f-c898-4f3c-91ee-62c107ae3864",
   "metadata": {},
   "outputs": [],
   "source": [
    "# Here is the code for challenge 1, Lab 1"
   ]
  },
  {
   "cell_type": "code",
   "execution_count": null,
   "id": "4bddbcaf-2daf-4ae5-9f9d-c3c3f299f91d",
   "metadata": {},
   "outputs": [],
   "source": [
    "<center>Types of Roads in the UK</center>\n",
    "<table>\n",
    "    <tr>\n",
    "        <th>Type of Road:</th>\n",
    "        <th>Connect:</th>\n",
    "        <th>Speed:</th>\n",
    "    </tr>\n",
    "    <tr>\n",
    "        <td><a href=\"https://www.bituchem.com/knowledge-hub/what-are-the-different-types-of-road-in-the-uk/\" target=\"_blank\">Motorways</a></td>\n",
    "        <td>Major cities and towns</td>\n",
    "        <td>70mph</td>\n",
    "    </tr>\n",
    "    <tr>\n",
    "        <td><a href=\"https://www.bituchem.com/knowledge-hub/what-are-the-different-types-of-road-in-the-uk/\" target=\"_blank\">A roads</a></td>\n",
    "        <td>Regional cities and towns</td>\n",
    "        <td>60mph-70mph</td>\n",
    "    </tr>\n",
    "    <tr>\n",
    "       <td><a href=\"https://www.bituchem.com/knowledge-hub/what-are-the-different-types-of-road-in-the-uk/\" target=\"_blank\">B roads</a></td>\n",
    "        <td>Regional cities and towns</td>\n",
    "        <td>50mph</td>\n",
    "    </tr>\n",
    "    <tr>\n",
    "        <td><a href=\"https://www.bituchem.com/knowledge-hub/what-are-the-different-types-of-road-in-the-uk/\" target=\"_blank\">C roads</a></td>\n",
    "        <td>Unclassified roads with A and B roads</td>\n",
    "        <td>40mph</td>\n",
    "    </tr>\n",
    "    <tr>\n",
    "        <td><a href=\"https://www.bituchem.com/knowledge-hub/what-are-the-different-types-of-road-in-the-uk/\" target=\"_blank\">Local roads</a></td>\n",
    "        <td>Built environments and residential areas</td>\n",
    "        <td>20-30mph</td>\n",
    "    </tr>"
   ]
  },
  {
   "cell_type": "markdown",
   "id": "0e6c1433-bb38-4630-a13f-ff24fddc47b4",
   "metadata": {},
   "source": [
    "# Challenge No 2"
   ]
  },
  {
   "cell_type": "code",
   "execution_count": null,
   "id": "d022bf66-bdac-443a-b429-5465a0b8e0c9",
   "metadata": {},
   "outputs": [],
   "source": [
    "# Here is the code for challenge 2, Lab 1"
   ]
  },
  {
   "cell_type": "code",
   "execution_count": null,
   "id": "8371945b-6c8a-4f19-af78-2164d68eb429",
   "metadata": {},
   "outputs": [],
   "source": [
    "import numpy as np\n",
    "#Imported numpy to use the mean function\n",
    "list = [22,44,66]\n",
    "#Established my list of three numbers\n",
    "avg = np.mean(list)\n",
    "#Conducted the mean calculation on my list of numbers, as imported from numpy\n",
    "print(\"Average:\", avg)\n",
    "#Printed the final average"
   ]
  },
  {
   "cell_type": "markdown",
   "id": "c58eeb54-0805-44c4-8ee1-75f04da1a836",
   "metadata": {},
   "source": [
    "# Challenge No 3"
   ]
  },
  {
   "cell_type": "code",
   "execution_count": null,
   "id": "4313b0dc-57f9-4cd9-bfea-2ac25df9325a",
   "metadata": {},
   "outputs": [],
   "source": [
    "# Here is the code for challenge 3, Lab 1"
   ]
  },
  {
   "cell_type": "code",
   "execution_count": null,
   "id": "8d90e7fc-5cfb-42c7-997b-947457fff14c",
   "metadata": {},
   "outputs": [],
   "source": [
    "#Input for the number of choice\n",
    "x = int(input(\"Number: \"))\n",
    "\n",
    "#Check if the number is even or odd, if it cannot be divided by two, it will be determined as an odd number\n",
    "if x %2 == 0:\n",
    "    print(x, \"is an even number\")\n",
    "else:\n",
    "    print(x, \"is an odd number\")\n",
    "#The confirmed decision will be printed"
   ]
  },
  {
   "cell_type": "markdown",
   "id": "d2d652d4-a108-4861-8f75-b67cbb533740",
   "metadata": {},
   "source": [
    "# Challenge No 4"
   ]
  },
  {
   "cell_type": "code",
   "execution_count": null,
   "id": "ab026cfd-66a0-4497-a73f-fc5dc04cf259",
   "metadata": {},
   "outputs": [],
   "source": [
    "# Here is the code for challenge 4, Lab 1"
   ]
  },
  {
   "cell_type": "code",
   "execution_count": null,
   "id": "f76367e9-63bf-4f45-99c2-85ebd97c72ca",
   "metadata": {},
   "outputs": [],
   "source": [
    "def factorial_iterative(n):\n",
    "    result = 1\n",
    "    for i in range(1, n+1):\n",
    "        result *= i\n",
    "    return result\n",
    "\n",
    "num = int(input(\"Enter a number: \"))\n",
    "print(f\"The factorial of {num} is {factorial_iterative(num)}\")"
   ]
  },
  {
   "cell_type": "markdown",
   "id": "0799dff0-1ce6-4b9e-8c80-45eba2598954",
   "metadata": {},
   "source": [
    "# Challenge No 5"
   ]
  },
  {
   "cell_type": "code",
   "execution_count": null,
   "id": "2e0c8f6b-f391-4d8c-a433-9af7d51e0910",
   "metadata": {},
   "outputs": [],
   "source": [
    "# Here is the code for challenge 5, Lab 1"
   ]
  },
  {
   "cell_type": "code",
   "execution_count": null,
   "id": "18f5966f-c2e6-4f16-bac1-152eded56864",
   "metadata": {},
   "outputs": [],
   "source": [
    "#input the mark\n",
    "mark = int(input(\"Enter your mark\"))\n",
    "\n",
    "#checking what grade they got, and then assigning it a corresponding classification\n",
    "if mark > 81: \n",
    "    print(\"Your grade is 20.\")\n",
    "\n",
    "elif 80 >= mark >= 61:\n",
    "    print(\"Your grade is 15.\")\n",
    "\n",
    "elif 60 >= mark >= 41:\n",
    "    print(\"Your grade is 10.\")\n",
    "\n",
    "elif 40 >= mark >= 20:\n",
    "    print(\"Your grade is 5.\")\n",
    "\n",
    "else:\n",
    "    print(\"Your grade is 0.\")"
   ]
  },
  {
   "cell_type": "markdown",
   "id": "a93407a8-1c21-48e3-8847-2e240b2c61a2",
   "metadata": {},
   "source": [
    "# Challenge No 6"
   ]
  },
  {
   "cell_type": "code",
   "execution_count": null,
   "id": "ad3db0e2-0082-409f-9625-a236d7ccd059",
   "metadata": {},
   "outputs": [],
   "source": [
    "# Here is the code for challenge 6, Lab 1"
   ]
  },
  {
   "cell_type": "code",
   "execution_count": null,
   "id": "66344da4-8836-4bae-8576-ae08d1f68581",
   "metadata": {},
   "outputs": [],
   "source": [
    "#define farenheit variable as an integer to be input\n",
    "farenheit = int(input(\"Enter a temperature in Farenheit.\"))\n",
    "\n",
    "#establish farenheit to celcius conversion\n",
    "celcius = (farenheit-32)*(5/9)\n",
    "\n",
    "#printing the result\n",
    "print(f\"{farenheit} degrees Farenheit is {celcius} degrees Celcius.\")"
   ]
  },
  {
   "cell_type": "markdown",
   "id": "121cdee9-a198-4c6a-be4b-707eb73bf89f",
   "metadata": {},
   "source": [
    "# Challenge No 7"
   ]
  },
  {
   "cell_type": "code",
   "execution_count": null,
   "id": "d0aa702d-91cf-46c1-b118-1d3b16899909",
   "metadata": {},
   "outputs": [],
   "source": [
    "# Here is the code for challenge 7, Lab 1"
   ]
  },
  {
   "cell_type": "code",
   "execution_count": null,
   "id": "ed01d425-edd8-4ce4-8448-56d39d952b90",
   "metadata": {},
   "outputs": [],
   "source": [
    "import numpy as np\n",
    "\n",
    "#establishing a random array of elements\n",
    "random = np.random.randint(0, 10, size=(3, 3))\n",
    "print(f\"Our elements are:\\n{random}\")\n",
    "\n",
    "#mean calculation\n",
    "mean_value = np.mean(random)\n",
    "\n",
    "#standard deviation calculation\n",
    "std_deviation = np.std(random)\n",
    "\n",
    "#printing the results\n",
    "print(f\"Mean:{mean_value}, Standard Deviation:{std_deviation}\")"
   ]
  },
  {
   "cell_type": "markdown",
   "id": "7a8b685c-9c87-4080-8072-15544c2b740b",
   "metadata": {},
   "source": [
    "# Challenge No 8"
   ]
  },
  {
   "cell_type": "code",
   "execution_count": null,
   "id": "317d458b-b8d7-42ae-83af-087f7ed74127",
   "metadata": {},
   "outputs": [],
   "source": [
    "# Here is the code for challenge 8, Lab 1"
   ]
  },
  {
   "cell_type": "code",
   "execution_count": null,
   "id": "1702b9b5-d78e-4ba8-b12e-21c9ffd036c9",
   "metadata": {},
   "outputs": [],
   "source": [
    "import pandas as pd\n",
    "\n",
    "sales_data_dict = {\n",
    "    'Date': ['2022-01-01', '2022-01-02', '2022-01-03', '2022-01-04'],\n",
    "    'Region': ['North', 'South', 'East', 'West'],\n",
    "    'Product': ['A', 'B', 'A', 'C'],\n",
    "    'Quantity': [15, 8, 12, 10],\n",
    "    'Revenue': [1500, 1200, 1800, 900]\n",
    "}\n",
    "\n",
    "sales_data = pd.DataFrame(sales_data_dict)\n",
    "\n",
    "\n",
    "movie_ratings_dict = {\n",
    "    'Title': ['Movie1', 'Movie2', 'Movie3', 'Movie4'],\n",
    "    'Genre': ['Action', 'Drama', 'Comedy', 'Thriller'],\n",
    "    'Year': [2015, 2010, 2018, 2011],\n",
    "    'Rating': [8.5, 7.8, 9.2, 8.0]\n",
    "}\n",
    "\n",
    "movie_ratings = pd.DataFrame(movie_ratings_dict)\n",
    "\n",
    "print(sales_data)\n",
    "print(movie_ratings)\n"
   ]
  },
  {
   "cell_type": "markdown",
   "id": "587e7183-3753-493c-8a04-81ba6d8f807b",
   "metadata": {},
   "source": [
    "# Challenge No 9"
   ]
  },
  {
   "cell_type": "code",
   "execution_count": null,
   "id": "5452e1ff-debb-4be4-973a-5d1b38df616d",
   "metadata": {},
   "outputs": [],
   "source": [
    "# Here is the code for challenge 9, Lab 1"
   ]
  },
  {
   "cell_type": "code",
   "execution_count": null,
   "id": "af294f6c-5563-45d4-ae3a-cad3f10357e3",
   "metadata": {},
   "outputs": [],
   "source": [
    "import geopandas as gpd\n",
    "import rasterio\n",
    "from rasterio.plot import show\n",
    "\n",
    "shapefile_path = 'Road_Safety_Accidents.shp'\n",
    "gdf = gpd.read_file(shapefile_path)\n",
    "gdf.explore()"
   ]
  },
  {
   "cell_type": "code",
   "execution_count": null,
   "id": "ffa6268b-161e-420f-bfca-561742764a3f",
   "metadata": {},
   "outputs": [],
   "source": [
    "raster_path = 'elev.tif'\n",
    "raster = rasterio.open(raster_path)\n",
    "show(raster)"
   ]
  },
  {
   "cell_type": "code",
   "execution_count": null,
   "id": "07c4c4cc-b6d3-4d76-8ba1-01acc37672e7",
   "metadata": {},
   "outputs": [],
   "source": [
    "print(gdf.columns)"
   ]
  },
  {
   "cell_type": "code",
   "execution_count": null,
   "id": "f4bfba1b-c64e-4608-8270-aefb116cc43e",
   "metadata": {},
   "outputs": [],
   "source": [
    "#recreating explore map, with chloropleth map\n",
    "\n",
    "shapefile_path = 'Road_Safety_Accidents.shp'\n",
    "gdf = gpd.read_file(shapefile_path)\n",
    "gdf.explore(column=\"ACCIDENT_I\", camp=\"OrRd\", legend=True)"
   ]
  },
  {
   "cell_type": "code",
   "execution_count": null,
   "id": "26d16e65-6ea5-46bb-afe8-b8ce58587ed5",
   "metadata": {},
   "outputs": [],
   "source": [
    "#histogram of the raster\n",
    "\n",
    "from rasterio.plot import show_hist\n",
    "show_hist(\n",
    "    raster, bins=50, lw=0.0, stacked=False, alpha=0.3, histtype='stepfilled', title=\"Histogram\")"
   ]
  }
 ],
 "metadata": {
  "kernelspec": {
   "display_name": "Python 3 (ipykernel)",
   "language": "python",
   "name": "python3"
  },
  "language_info": {
   "codemirror_mode": {
    "name": "ipython",
    "version": 3
   },
   "file_extension": ".py",
   "mimetype": "text/x-python",
   "name": "python",
   "nbconvert_exporter": "python",
   "pygments_lexer": "ipython3",
   "version": "3.12.8"
  }
 },
 "nbformat": 4,
 "nbformat_minor": 5
}
