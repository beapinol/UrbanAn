{
 "cells": [
  {
   "cell_type": "markdown",
   "id": "7e2a4888-9795-4bf0-863a-6c764a730fff",
   "metadata": {},
   "source": [
    "# Lab No 4: Geovisualization II - Apps.\n",
    "# PART TWO\n",
    "## 3 Challenges"
   ]
  },
  {
   "cell_type": "markdown",
   "id": "5ae26dc5-3c4c-4a2a-a354-78b40fb5176d",
   "metadata": {},
   "source": [
    "# Challenge No 2"
   ]
  },
  {
   "cell_type": "code",
   "execution_count": null,
   "id": "b7441d5f-596e-4b94-a767-89f07bcf775e",
   "metadata": {},
   "outputs": [],
   "source": [
    "# Here is the code for challenge 2, Lab 4"
   ]
  },
  {
   "cell_type": "markdown",
   "id": "3aa1b83f-0264-4ffb-9a16-5bccf21e0a88",
   "metadata": {},
   "source": [
    "![URBAN_HEAT_ISLAND.png](attachment:a271709d-82ab-4a4d-bad2-716b5f05407a.png)"
   ]
  },
  {
   "cell_type": "markdown",
   "id": "d2c4458e-2e3a-40ae-b806-d1b7a8d8b3b0",
   "metadata": {},
   "source": [
    "https://www.arcgis.com/apps/dashboards/dd7aebe3fa214c849e72f71ab439e754"
   ]
  },
  {
   "cell_type": "markdown",
   "id": "1565df35-217d-49fe-87f7-7146c2a68f82",
   "metadata": {},
   "source": [
    "# Challenge No 3"
   ]
  },
  {
   "cell_type": "code",
   "execution_count": null,
   "id": "d3e285ec-d90b-4182-818d-1872b2fae4bd",
   "metadata": {},
   "outputs": [],
   "source": [
    "# Here is the code for challenge 3, Lab 4"
   ]
  },
  {
   "cell_type": "code",
   "execution_count": null,
   "id": "25cfbab3-8c5d-4260-8bb8-acb9c4d5e838",
   "metadata": {},
   "outputs": [],
   "source": [
    "import requests\n",
    "import zipfile\n",
    "import os\n",
    "import pandas as pd\n",
    "import geopandas as gpd\n",
    "\n",
    "#downloading shapefile\n",
    "url = \"https://maps.gov.scot/ATOM/shapefiles/SG_SIMD_2020.zip\"\n",
    "zip_path = \"SG_SIMD_2020.zip\"\n",
    "extract_path = \"SG_SIMD_2020\"\n",
    "with open(zip_path, \"wb\") as f:\n",
    "    f.write(requests.get(url).content)\n",
    "\n",
    "#unzipping shapefile\n",
    "with zipfile.ZipFile(zip_path, \"r\") as zip_ref:\n",
    "    zip_ref.extractall(extract_path)\n",
    "\n",
    "#loading the shapefile into our gdf\n",
    "shapefile = [f for f in os.listdir(extract_path) if f.endswith(\".shp\")][0]\n",
    "gdf = gpd.read_file(os.path.join(extract_path, shapefile))\n",
    "\n",
    "#printing the first five rows of data\n",
    "print(gdf.head())"
   ]
  },
  {
   "cell_type": "markdown",
   "id": "6ad751c0-565b-49a1-83e8-cb38398bdc22",
   "metadata": {},
   "source": [
    "**References**: bytecode (2024). Reading multiple shapefiles with geopandas from a zip file in memory. [online] Stack Overflow. Available at: https://stackoverflow.com/questions/77823335/reading-multiple-shapefiles-with-geopandas-from-a-zip-file-in-memory."
   ]
  },
  {
   "cell_type": "code",
   "execution_count": null,
   "id": "b2df44a8-3300-4d1f-bafa-fca5c0b7f8d9",
   "metadata": {},
   "outputs": [],
   "source": [
    "#subset our data frame to keep only data for edinburgh city \n",
    "\n",
    "gdf_subset == gdf[gdf[\"LAName\"] == \"City of Edinburgh\"]\n",
    "gdf_subset.head(3)"
   ]
  },
  {
   "cell_type": "code",
   "execution_count": null,
   "id": "c301a2d4-a1c9-4fed-b158-d4a98a5fd8cc",
   "metadata": {},
   "outputs": [],
   "source": [
    "#seeing the column titles\n",
    "gdf_subset.columns"
   ]
  },
  {
   "cell_type": "code",
   "execution_count": null,
   "id": "2750e6cb-8e32-4e8e-b887-f042a2c1182d",
   "metadata": {},
   "outputs": [],
   "source": [
    "#using matplot lib to create chloropleth maps \n",
    "import numpy as np\n",
    "import mapclassify as mc\n",
    "import matplotlib.pyplot as plt\n",
    "import folium\n",
    "import seaborn as sns\n",
    "\n",
    "#choosing my axes for the chloropleth map\n",
    "fig, axes = plt.subplots(1, 3, figsize=(15, 5))\n",
    "\n",
    "#exploring different variables through generating histograms\n",
    "sns.histplot(data=gdf_subset, x=\"IncRate\",ax=axes[0], kde=True) \n",
    "sns.histplot(data=gdf_subset, x=\"EduAttend\",ax=axes[1], kde=True) \n",
    "sns.histplot(data=gdf_subset, x=\"CrimeRate\",ax=axes[2], kde=True) \n",
    "\n",
    "axes[0].set_title(\"Income Rate\")\n",
    "axes[1].set_title(\"Educational Attendance\")\n",
    "axes[2].set_title(\"Crime Rate\")\n",
    "\n",
    "plt.tight_layout()\n",
    "plt.show()"
   ]
  },
  {
   "cell_type": "code",
   "execution_count": null,
   "id": "cf08f105-9034-43f0-a4cd-8d0a2820f8d1",
   "metadata": {},
   "outputs": [],
   "source": [
    "#checking for any missing values\n",
    "print(gdf_subset['IncRate'].isna().sum())\n",
    "print(gdf_subset['EduAttend'].isna().sum())\n",
    "print(gdf_subset['CrimeRate'].isna().sum())"
   ]
  },
  {
   "cell_type": "code",
   "execution_count": null,
   "id": "92bad320-eca1-4621-9c36-9d4954b87f89",
   "metadata": {},
   "outputs": [],
   "source": [
    "#checking the data types\n",
    "print(gdf_subset['IncRate'].dtype)\n",
    "print(gdf_subset['EduAttend'].dtype)\n",
    "print(gdf_subset['CrimeRate'].dtype)"
   ]
  },
  {
   "cell_type": "code",
   "execution_count": null,
   "id": "2cfe1dfc-d31a-4daf-a90a-28a5852233fd",
   "metadata": {},
   "outputs": [],
   "source": [
    "# number of classes for classification\n",
    "num_classes = 5\n",
    "\n",
    "# using natural breaks (jenks classification)\n",
    "classifier_nb = mc.NaturalBreaks(gdf_subset['CrimeRate'], k=num_classes)\n",
    "print(classifier_nb)\n",
    "print(min(classifier_nb.bins), max(classifier_nb.bins))\n",
    "print(classifier_nb.bins) #\n",
    "\n",
    "# using equal interval classification\n",
    "classifier_ei = mc.EqualInterval(gdf_subset['CrimeRate'], k=num_classes)\n",
    "print(classifier_ei)\n",
    "print(min(classifier_ei.bins), max(classifier_ei.bins))\n",
    "print(classifier_ei.bins) "
   ]
  },
  {
   "cell_type": "code",
   "execution_count": null,
   "id": "238f5086-6bd6-460c-90eb-dfd69fcabfa5",
   "metadata": {},
   "outputs": [],
   "source": [
    "#creating a histogram with breakpoints for the crime rate in Edinburgh\n",
    "\n",
    "fig, ax = plt.subplots(figsize=(8, 5))\n",
    "\n",
    "sns.histplot(data=gdf_subset, x=\"CrimeRate\", ax=ax, kde=True, bins=20)\n",
    "\n",
    "# defining the style of the lines to represent the breakpoints\n",
    "ax.axvline(classifier_nb.bins[0], color='red', linestyle='dashed', linewidth=2, label='Breakpoints') \n",
    "# a simple For to loop over all the elements in the array 'classifier_nb.bins'\n",
    "for bin_value in classifier_nb.bins:\n",
    "    ax.axvline(bin_value, color='red', linestyle='dashed', linewidth=2) \n",
    " \n",
    "#styling the histogram\n",
    "ax.set_title(\"Histogram with Breakpoints for Natural Breaks\")\n",
    "\n",
    "#adding a legend\n",
    "plt.legend()\n",
    "plt.show()"
   ]
  },
  {
   "cell_type": "code",
   "execution_count": null,
   "id": "70375b7b-d3e1-48a5-ad50-7864d0727b59",
   "metadata": {},
   "outputs": [],
   "source": [
    "fig, axes = plt.subplots(1, 2, figsize=(15, 5))\n",
    "#generating histogram for crime rates in Edinburgh with natural breaks\n",
    "sns.histplot(data=gdf_subset, x=\"CrimeRate\", ax=axes[0], kde=True, bins=20)\n",
    "axes[0].axvline(classifier_nb.bins[0], color='red', linestyle='dashed', linewidth=2, label='Natural Breaks')\n",
    "for bin_value in classifier_nb.bins:\n",
    "    axes[0].axvline(bin_value, color='red', linestyle='dashed', linewidth=2)\n",
    "axes[0].set_title(\"Crime Rate Histogram with Natural Breaks\")\n",
    "axes[0].legend()\n",
    "\n",
    "sns.histplot(data=gdf_subset, x=\"CrimeRate\", ax=axes[1], kde=True, bins=20)\n",
    "axes[1].axvline(classifier_ei.bins[0], color='blue', linestyle='dashed', linewidth=2, label='Quantiles')\n",
    "for bin_value in classifier_ei.bins:\n",
    "    axes[1].axvline(bin_value, color='blue', linestyle='dashed', linewidth=2)\n",
    "axes[1].set_title(\"Crime Rate Histogram with Quantiles\")\n",
    "axes[1].legend()\n",
    "#using the tight layout to display the histogram with natural breaks\n",
    "plt.tight_layout()\n",
    "plt.show()"
   ]
  },
  {
   "cell_type": "code",
   "execution_count": null,
   "id": "08ea3838-1e1a-47b0-bac6-18fed9495762",
   "metadata": {},
   "outputs": [],
   "source": [
    "#generating a chloropleth map with natural breaks                                                                                                                                        fig, ax = plt.subplots(figsize=(12, 10))\n",
    "gdf_subset.plot(column='CrimeRate', ax=ax,\n",
    "         legend=True, cmap='viridis',\n",
    "         scheme='UserDefined',\n",
    "         classification_kwds={'bins': classifier_nb.bins} \n",
    "        )\n",
    "plt.title(\"Choropleth Map using mapclassify with Natural Breaks - Map 1\")\n",
    "plt.show()"
   ]
  },
  {
   "cell_type": "code",
   "execution_count": null,
   "id": "66885be3-8346-4f9e-8963-696284946615",
   "metadata": {},
   "outputs": [],
   "source": [
    "#generating a chloropleth map with equal intervals\n",
    "fig, ax = plt.subplots(figsize=(12, 10))\n",
    "gdf_subset.plot(column='CrimeRate', ax=ax,\n",
    "         legend=True, cmap='viridis',\n",
    "         scheme='UserDefined',\n",
    "         classification_kwds={'bins': classifier_ei.bins},\n",
    "        )\n",
    "plt.title(\"Choropleth Map using Classifier with Equal Intervals - Map 2\")\n",
    "plt.show()"
   ]
  },
  {
   "cell_type": "code",
   "execution_count": null,
   "id": "554a698f-7930-4f98-8155-295ac7abcbd4",
   "metadata": {},
   "outputs": [],
   "source": [
    "#comparing the two chloropleth maps for crime rates in Edinburgh\n",
    "fig, axs = plt.subplots(1, 2, figsize=(18, 8))\n",
    "\n",
    "gdf_subset.plot(column='CrimeRate', ax=axs[0],\n",
    "         legend=True, cmap='viridis',\n",
    "         scheme='UserDefined',\n",
    "         classification_kwds={'bins': classifier_nb.bins}\n",
    "        )\n",
    "\n",
    "axs[0].set_title(\"Choropleth Map with Natural Breaks\")\n",
    "\n",
    "gdf_subset.plot(column='CrimeRate', ax=axs[1],\n",
    "         legend=True, cmap='viridis',\n",
    "         scheme='UserDefined',\n",
    "         classification_kwds={'bins': classifier_ei.bins})\n",
    "\n",
    "axs[1].set_title(\"Choropleth Map with Equal Intervals\")\n",
    "#using the tight layout\n",
    "plt.tight_layout() \n",
    "plt.show()"
   ]
  },
  {
   "cell_type": "code",
   "execution_count": null,
   "id": "34d2a1dd-7785-4ffd-a811-ead8e2dde7ae",
   "metadata": {},
   "outputs": [],
   "source": [
    "#creating chloropleth mapbox using natural breaks\n",
    "num_classes = 5\n",
    "\n",
    "classifier_edi = mc.NaturalBreaks(gdf_subset['CrimeRate'], k=num_classes)\n",
    "gdf_subset['classification_edi'] = classifier_edi.yb #yb to get the values from the array.\n",
    "\n",
    "print(classifier_edi)\n",
    "print(gdf_subset[['CrimeRate', 'classification_nb']])"
   ]
  },
  {
   "cell_type": "code",
   "execution_count": null,
   "id": "bad17792-bc98-4471-b179-ee989b745e43",
   "metadata": {},
   "outputs": [],
   "source": [
    "fig = px.choropleth_mapbox(gdf_subset,\n",
    "                           geojson=gdf_subset.geometry,\n",
    "                           locations=gdf_subset.index,\n",
    "                           color=\"classification_nb\",\n",
    "                           color_continuous_scale=\"viridis\",\n",
    "                           range_color= (1, 5),\n",
    "                           opacity=0.5,\n",
    "                           center={\"lat\": 55.866193, \"lon\": -4.258246},\n",
    "                           mapbox_style=\"carto-positron\",\n",
    "                           zoom=9.5)\n",
    "fig.update_layout(margin={\"r\":0,\"t\":0,\"l\":0,\"b\":0})\n",
    "fig.show()"
   ]
  },
  {
   "cell_type": "code",
   "execution_count": null,
   "id": "42d743c7-b889-46b5-b5a7-e792a5e5e4cd",
   "metadata": {},
   "outputs": [],
   "source": [
    "#checking for the LA name for glasgow\n",
    "print(gdf[\"LAName\"].unique()) "
   ]
  },
  {
   "cell_type": "code",
   "execution_count": null,
   "id": "495b8668-be16-44ca-92fa-e5a149850566",
   "metadata": {},
   "outputs": [],
   "source": [
    "#comparing glasgow and edinburgh \n",
    "\n",
    "#creating a subset for glasgow to compare to edinburgh\n",
    "gdf_subset2 == gdf[gdf[\"LAName\"] == \"Glasgow City\"]\n",
    "gdf_subset2.head(3)"
   ]
  },
  {
   "cell_type": "code",
   "execution_count": null,
   "id": "05009540-8d2a-46fc-90e0-9b77c96443c4",
   "metadata": {},
   "outputs": [],
   "source": [
    "#observing the columns\n",
    "gdf_subset2.columns"
   ]
  },
  {
   "cell_type": "code",
   "execution_count": null,
   "id": "424534a2-2c58-46f0-8afa-04d9af37d16d",
   "metadata": {},
   "outputs": [],
   "source": [
    "#generating a mapbox for Glasgow crime rate\n",
    "num_classes = 5\n",
    "\n",
    "classifier_gla = mc.NaturalBreaks(gdf_subset2['CrimeRate'], k=num_classes)\n",
    "gdf_subset2['classification_gla'] = classifier_nb.yb #yb to get the values from the array.\n",
    "\n",
    "print(classifier_gla)\n",
    "print(gdf_subset2[['CrimeRate', 'classification_nb']])"
   ]
  },
  {
   "cell_type": "code",
   "execution_count": null,
   "id": "130f59ab-adb8-4d68-993c-9ed6000f27a3",
   "metadata": {},
   "outputs": [],
   "source": [
    "fig = px.choropleth_mapbox(gdf_subset2,\n",
    "                           geojson=gdf_subset2.geometry,\n",
    "                           locations=gdf_subset2.index,\n",
    "                           color=\"classification_nb\",\n",
    "                           color_continuous_scale=\"viridis\",\n",
    "                           range_color= (1, 5),\n",
    "                           opacity=0.5,\n",
    "                           center={\"lat\": 55.866193, \"lon\": -4.258246},\n",
    "                           mapbox_style=\"carto-positron\",\n",
    "                           zoom=9.5)\n",
    "fig.update_layout(margin={\"r\":0,\"t\":0,\"l\":0,\"b\":0})\n",
    "fig.show()"
   ]
  },
  {
   "cell_type": "code",
   "execution_count": null,
   "id": "e1c3a93d-0a5a-4897-b844-42386a4fe4e1",
   "metadata": {},
   "outputs": [],
   "source": [
    "#comparing the mapbox for Glasgow vs Edinburgh's crime rate\n",
    "ig = make_subplots(rows=1, cols=2, subplot_titles=(\"Glasgow Crime Rate\", \"Edinburgh Crime Rate\"),\n",
    "                    specs=[[{\"type\": \"mapbox\"}, {\"type\": \"mapbox\"}]])\n",
    "\n",
    "#combining both figures\n",
    "fig.add_trace(fig_glasgow.data[0], row=1, col=1)\n",
    "fig.add_trace(fig_edinburgh.data[0], row=1, col=2)\n",
    "\n",
    "#updating the layout\n",
    "fig.update_layout(mapbox_style=\"carto-positron\",\n",
    "                  margin={\"r\":0,\"t\":50,\"l\":0,\"b\":0},\n",
    "                  height=600,\n",
    "                  showlegend=False)\n",
    "#displaying the figure\n",
    "fig.show()"
   ]
  }
 ],
 "metadata": {
  "kernelspec": {
   "display_name": "Python 3 (ipykernel)",
   "language": "python",
   "name": "python3"
  },
  "language_info": {
   "codemirror_mode": {
    "name": "ipython",
    "version": 3
   },
   "file_extension": ".py",
   "mimetype": "text/x-python",
   "name": "python",
   "nbconvert_exporter": "python",
   "pygments_lexer": "ipython3",
   "version": "3.12.8"
  }
 },
 "nbformat": 4,
 "nbformat_minor": 5
}
